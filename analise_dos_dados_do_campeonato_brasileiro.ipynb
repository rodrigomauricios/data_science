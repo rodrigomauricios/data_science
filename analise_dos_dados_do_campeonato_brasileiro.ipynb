{
  "nbformat": 4,
  "nbformat_minor": 0,
  "metadata": {
    "colab": {
      "name": "analise dos dados do campeonato brasileiro.ipynb",
      "provenance": [],
      "authorship_tag": "ABX9TyMu0+IB6wZ0yq8F7LVMUtUF",
      "include_colab_link": true
    },
    "kernelspec": {
      "name": "python3",
      "display_name": "Python 3"
    }
  },
  "cells": [
    {
      "cell_type": "markdown",
      "metadata": {
        "id": "view-in-github",
        "colab_type": "text"
      },
      "source": [
        "<a href=\"https://colab.research.google.com/github/rodrigomauricios/data_science/blob/master/analise_dos_dados_do_campeonato_brasileiro.ipynb\" target=\"_parent\"><img src=\"https://colab.research.google.com/assets/colab-badge.svg\" alt=\"Open In Colab\"/></a>"
      ]
    },
    {
      "cell_type": "markdown",
      "metadata": {
        "id": "MKgzuGlphVpM",
        "colab_type": "text"
      },
      "source": [
        "Análise dos dados do campeonato brasileiro do ano 2000 até 2019. Nesse notebook vou extrair algumas informações dos dados, gerar gráficos com algumas dessas informações utilizando Python e as bibliotecas Pandas, Matplotlib e Seaborn."
      ]
    },
    {
      "cell_type": "markdown",
      "metadata": {
        "id": "z9mrH-0mntvT",
        "colab_type": "text"
      },
      "source": [
        "# **Importando a biblioteca Pandas**"
      ]
    },
    {
      "cell_type": "code",
      "metadata": {
        "id": "yKe6xw7mHnqS",
        "colab_type": "code",
        "colab": {}
      },
      "source": [
        "import pandas as pd"
      ],
      "execution_count": null,
      "outputs": []
    },
    {
      "cell_type": "markdown",
      "metadata": {
        "id": "4woc5ZByn4KS",
        "colab_type": "text"
      },
      "source": [
        "# **Lendo o arquivo com os dados**"
      ]
    },
    {
      "cell_type": "code",
      "metadata": {
        "id": "wCXaxMo7H5l4",
        "colab_type": "code",
        "colab": {}
      },
      "source": [
        "df = pd.read_csv('campeonato-brasileiro-full.csv')"
      ],
      "execution_count": null,
      "outputs": []
    },
    {
      "cell_type": "markdown",
      "metadata": {
        "id": "efNIgzWjo0Mf",
        "colab_type": "text"
      },
      "source": [
        "**Exibindo o conjunto de dados**"
      ]
    },
    {
      "cell_type": "markdown",
      "metadata": {
        "id": "tjeA5vigoNKW",
        "colab_type": "text"
      },
      "source": [
        "Conjunto de dados podem ser muito grande, pensando nisso, o comando df.head() que usei abaixo faz com que nos mostre apenas as cinco primeiras linhas do conjunto de dados."
      ]
    },
    {
      "cell_type": "code",
      "metadata": {
        "id": "_dX_9eCqIMJv",
        "colab_type": "code",
        "colab": {
          "base_uri": "https://localhost:8080/",
          "height": 306
        },
        "outputId": "81f0df45-d0d7-49ff-cb65-d7cd20c4f814"
      },
      "source": [
        "df.head()"
      ],
      "execution_count": null,
      "outputs": [
        {
          "output_type": "execute_result",
          "data": {
            "text/html": [
              "<div>\n",
              "<style scoped>\n",
              "    .dataframe tbody tr th:only-of-type {\n",
              "        vertical-align: middle;\n",
              "    }\n",
              "\n",
              "    .dataframe tbody tr th {\n",
              "        vertical-align: top;\n",
              "    }\n",
              "\n",
              "    .dataframe thead th {\n",
              "        text-align: right;\n",
              "    }\n",
              "</style>\n",
              "<table border=\"1\" class=\"dataframe\">\n",
              "  <thead>\n",
              "    <tr style=\"text-align: right;\">\n",
              "      <th></th>\n",
              "      <th>Horário</th>\n",
              "      <th>Dia</th>\n",
              "      <th>Data</th>\n",
              "      <th>Clube 1</th>\n",
              "      <th>Clube 2</th>\n",
              "      <th>Vencedor</th>\n",
              "      <th>Rodada</th>\n",
              "      <th>Arena</th>\n",
              "      <th>Clube 1 Gols</th>\n",
              "      <th>Clube 2 Gols</th>\n",
              "      <th>Clube 1 Estado</th>\n",
              "      <th>Clube 2 Estado</th>\n",
              "      <th>Estado Clube Vencedor</th>\n",
              "    </tr>\n",
              "  </thead>\n",
              "  <tbody>\n",
              "    <tr>\n",
              "      <th>0</th>\n",
              "      <td>16h00</td>\n",
              "      <td>Sábado</td>\n",
              "      <td>2000-07-29</td>\n",
              "      <td>Fluminense</td>\n",
              "      <td>Bahia</td>\n",
              "      <td>Fluminense</td>\n",
              "      <td>1ª Rodada</td>\n",
              "      <td>Maracanã</td>\n",
              "      <td>2</td>\n",
              "      <td>0</td>\n",
              "      <td>RJ</td>\n",
              "      <td>BA</td>\n",
              "      <td>RJ</td>\n",
              "    </tr>\n",
              "    <tr>\n",
              "      <th>1</th>\n",
              "      <td>16h00</td>\n",
              "      <td>Sábado</td>\n",
              "      <td>2000-07-29</td>\n",
              "      <td>Vasco</td>\n",
              "      <td>Sport</td>\n",
              "      <td>Sport</td>\n",
              "      <td>1ª Rodada</td>\n",
              "      <td>São Januário</td>\n",
              "      <td>0</td>\n",
              "      <td>2</td>\n",
              "      <td>RJ</td>\n",
              "      <td>PE</td>\n",
              "      <td>PE</td>\n",
              "    </tr>\n",
              "    <tr>\n",
              "      <th>2</th>\n",
              "      <td>16h00</td>\n",
              "      <td>Sábado</td>\n",
              "      <td>2000-07-29</td>\n",
              "      <td>Vitória</td>\n",
              "      <td>Palmeiras</td>\n",
              "      <td>Vitória</td>\n",
              "      <td>1ª Rodada</td>\n",
              "      <td>Barradão</td>\n",
              "      <td>4</td>\n",
              "      <td>1</td>\n",
              "      <td>ES</td>\n",
              "      <td>SP</td>\n",
              "      <td>ES</td>\n",
              "    </tr>\n",
              "    <tr>\n",
              "      <th>3</th>\n",
              "      <td>17h00</td>\n",
              "      <td>Domingo</td>\n",
              "      <td>2000-07-30</td>\n",
              "      <td>Botafogo-RJ</td>\n",
              "      <td>Atlético-MG</td>\n",
              "      <td>-</td>\n",
              "      <td>1ª Rodada</td>\n",
              "      <td>Caio Martins</td>\n",
              "      <td>0</td>\n",
              "      <td>0</td>\n",
              "      <td>RJ</td>\n",
              "      <td>MG</td>\n",
              "      <td>Empate</td>\n",
              "    </tr>\n",
              "    <tr>\n",
              "      <th>4</th>\n",
              "      <td>18h30</td>\n",
              "      <td>Domingo</td>\n",
              "      <td>2000-07-30</td>\n",
              "      <td>Juventude</td>\n",
              "      <td>Flamengo</td>\n",
              "      <td>-</td>\n",
              "      <td>1ª Rodada</td>\n",
              "      <td>Alfredo Jaconi</td>\n",
              "      <td>1</td>\n",
              "      <td>1</td>\n",
              "      <td>RS</td>\n",
              "      <td>RJ</td>\n",
              "      <td>Empate</td>\n",
              "    </tr>\n",
              "  </tbody>\n",
              "</table>\n",
              "</div>"
            ],
            "text/plain": [
              "  Horário      Dia  ... Clube 2 Estado Estado Clube Vencedor\n",
              "0   16h00   Sábado  ...             BA                    RJ\n",
              "1   16h00   Sábado  ...             PE                    PE\n",
              "2   16h00   Sábado  ...             SP                    ES\n",
              "3   17h00  Domingo  ...             MG                Empate\n",
              "4   18h30  Domingo  ...             RJ                Empate\n",
              "\n",
              "[5 rows x 13 columns]"
            ]
          },
          "metadata": {
            "tags": []
          },
          "execution_count": 3
        }
      ]
    },
    {
      "cell_type": "markdown",
      "metadata": {
        "id": "I9I-OIzHpzCW",
        "colab_type": "text"
      },
      "source": [
        "**Analisando a estrutura do Dataframe**"
      ]
    },
    {
      "cell_type": "markdown",
      "metadata": {
        "id": "Fk_6gQCVp-k6",
        "colab_type": "text"
      },
      "source": [
        "O conjunto de dados possui 7939 linhas e 13 colunas conforme é exibido abaixo:"
      ]
    },
    {
      "cell_type": "code",
      "metadata": {
        "id": "_vIomuZgIOEh",
        "colab_type": "code",
        "colab": {
          "base_uri": "https://localhost:8080/",
          "height": 34
        },
        "outputId": "ef00eb56-111c-41c4-a9c6-fc767179289e"
      },
      "source": [
        "df.shape"
      ],
      "execution_count": null,
      "outputs": [
        {
          "output_type": "execute_result",
          "data": {
            "text/plain": [
              "(7939, 13)"
            ]
          },
          "metadata": {
            "tags": []
          },
          "execution_count": 4
        }
      ]
    },
    {
      "cell_type": "markdown",
      "metadata": {
        "id": "vT_KgZKNqevr",
        "colab_type": "text"
      },
      "source": [
        "# **Renomeando colunas**"
      ]
    },
    {
      "cell_type": "markdown",
      "metadata": {
        "id": "w7Jc5RMCqrP5",
        "colab_type": "text"
      },
      "source": [
        "Para ficar mais fácil a manipulação dos dados, vou fazer pequenas alterações nos nomes das colunas, vou alterar as iniciais de maiúsculas pra minúsculas, retiras os acentos, alterar os espaços por \"_\" e alterar os nomes das colunas Clube 1 por mandante, Clube 2 por visitante, Clube 1 Gols por mandante_gols, Clube 2 Gols por visitante_gols, Clube 1 Estado por mandante_estado, Clube 2 Estado por visitante_estado e Estado Clube Vencedor por vencedor_estado."
      ]
    },
    {
      "cell_type": "markdown",
      "metadata": {
        "id": "aeVKrQ9jsPnE",
        "colab_type": "text"
      },
      "source": [
        "**Visualizando os nomes atuais das colunas**"
      ]
    },
    {
      "cell_type": "code",
      "metadata": {
        "id": "4JUNOKBjIWoj",
        "colab_type": "code",
        "colab": {
          "base_uri": "https://localhost:8080/",
          "height": 85
        },
        "outputId": "dc7dd4c1-7ab6-4716-bd1b-325a2c05f442"
      },
      "source": [
        "df.columns"
      ],
      "execution_count": null,
      "outputs": [
        {
          "output_type": "execute_result",
          "data": {
            "text/plain": [
              "Index(['Horário', 'Dia', 'Data', 'Clube 1', 'Clube 2', 'Vencedor', 'Rodada',\n",
              "       'Arena', 'Clube 1 Gols', 'Clube 2 Gols', 'Clube 1 Estado',\n",
              "       'Clube 2 Estado', 'Estado Clube Vencedor'],\n",
              "      dtype='object')"
            ]
          },
          "metadata": {
            "tags": []
          },
          "execution_count": 5
        }
      ]
    },
    {
      "cell_type": "markdown",
      "metadata": {
        "id": "xwM_2AOrsYJE",
        "colab_type": "text"
      },
      "source": [
        "**Alterando o nome das colunas**"
      ]
    },
    {
      "cell_type": "code",
      "metadata": {
        "id": "dfZp7PQKIk8N",
        "colab_type": "code",
        "colab": {}
      },
      "source": [
        "df.columns = ['horario', 'dia', 'data', 'mandante', 'visitante', 'vencedor', 'rodada',\n",
        "       'arena', 'mandante_gols', 'visitante_gols', 'mandante_estado',\n",
        "       'visitante_estado', 'vencedor_estado']"
      ],
      "execution_count": null,
      "outputs": []
    },
    {
      "cell_type": "markdown",
      "metadata": {
        "id": "FKKiI6Tisrwd",
        "colab_type": "text"
      },
      "source": [
        "Aqui já podemos ver os nomes das colunas alterados no Dataframe"
      ]
    },
    {
      "cell_type": "code",
      "metadata": {
        "id": "4H6PhLx3JIqG",
        "colab_type": "code",
        "colab": {
          "base_uri": "https://localhost:8080/",
          "height": 193
        },
        "outputId": "6f61b845-e3ec-4bbe-d0c3-fcb388ccb032"
      },
      "source": [
        "df.head(3)"
      ],
      "execution_count": null,
      "outputs": [
        {
          "output_type": "execute_result",
          "data": {
            "text/html": [
              "<div>\n",
              "<style scoped>\n",
              "    .dataframe tbody tr th:only-of-type {\n",
              "        vertical-align: middle;\n",
              "    }\n",
              "\n",
              "    .dataframe tbody tr th {\n",
              "        vertical-align: top;\n",
              "    }\n",
              "\n",
              "    .dataframe thead th {\n",
              "        text-align: right;\n",
              "    }\n",
              "</style>\n",
              "<table border=\"1\" class=\"dataframe\">\n",
              "  <thead>\n",
              "    <tr style=\"text-align: right;\">\n",
              "      <th></th>\n",
              "      <th>horario</th>\n",
              "      <th>dia</th>\n",
              "      <th>data</th>\n",
              "      <th>mandante</th>\n",
              "      <th>visitante</th>\n",
              "      <th>vencedor</th>\n",
              "      <th>rodada</th>\n",
              "      <th>arena</th>\n",
              "      <th>mandante_gols</th>\n",
              "      <th>visitante_gols</th>\n",
              "      <th>mandante_estado</th>\n",
              "      <th>visitante_estado</th>\n",
              "      <th>vencedor_estado</th>\n",
              "    </tr>\n",
              "  </thead>\n",
              "  <tbody>\n",
              "    <tr>\n",
              "      <th>0</th>\n",
              "      <td>16h00</td>\n",
              "      <td>Sábado</td>\n",
              "      <td>2000-07-29</td>\n",
              "      <td>Fluminense</td>\n",
              "      <td>Bahia</td>\n",
              "      <td>Fluminense</td>\n",
              "      <td>1ª Rodada</td>\n",
              "      <td>Maracanã</td>\n",
              "      <td>2</td>\n",
              "      <td>0</td>\n",
              "      <td>RJ</td>\n",
              "      <td>BA</td>\n",
              "      <td>RJ</td>\n",
              "    </tr>\n",
              "    <tr>\n",
              "      <th>1</th>\n",
              "      <td>16h00</td>\n",
              "      <td>Sábado</td>\n",
              "      <td>2000-07-29</td>\n",
              "      <td>Vasco</td>\n",
              "      <td>Sport</td>\n",
              "      <td>Sport</td>\n",
              "      <td>1ª Rodada</td>\n",
              "      <td>São Januário</td>\n",
              "      <td>0</td>\n",
              "      <td>2</td>\n",
              "      <td>RJ</td>\n",
              "      <td>PE</td>\n",
              "      <td>PE</td>\n",
              "    </tr>\n",
              "    <tr>\n",
              "      <th>2</th>\n",
              "      <td>16h00</td>\n",
              "      <td>Sábado</td>\n",
              "      <td>2000-07-29</td>\n",
              "      <td>Vitória</td>\n",
              "      <td>Palmeiras</td>\n",
              "      <td>Vitória</td>\n",
              "      <td>1ª Rodada</td>\n",
              "      <td>Barradão</td>\n",
              "      <td>4</td>\n",
              "      <td>1</td>\n",
              "      <td>ES</td>\n",
              "      <td>SP</td>\n",
              "      <td>ES</td>\n",
              "    </tr>\n",
              "  </tbody>\n",
              "</table>\n",
              "</div>"
            ],
            "text/plain": [
              "  horario     dia        data  ... mandante_estado visitante_estado vencedor_estado\n",
              "0   16h00  Sábado  2000-07-29  ...              RJ               BA              RJ\n",
              "1   16h00  Sábado  2000-07-29  ...              RJ               PE              PE\n",
              "2   16h00  Sábado  2000-07-29  ...              ES               SP              ES\n",
              "\n",
              "[3 rows x 13 columns]"
            ]
          },
          "metadata": {
            "tags": []
          },
          "execution_count": 7
        }
      ]
    },
    {
      "cell_type": "markdown",
      "metadata": {
        "id": "_sA7UOfOL5t7",
        "colab_type": "text"
      },
      "source": [
        "# **Total de gols em todas as edições do campeonato brasileiro**"
      ]
    },
    {
      "cell_type": "code",
      "metadata": {
        "id": "J5BNq7E8P6cH",
        "colab_type": "code",
        "colab": {
          "base_uri": "https://localhost:8080/",
          "height": 34
        },
        "outputId": "bcd0cc85-1137-4c17-8f83-ca777ba75b76"
      },
      "source": [
        "total_gols_mandante = df.mandante_gols.sum()\n",
        "total_gols_mandante"
      ],
      "execution_count": null,
      "outputs": [
        {
          "output_type": "execute_result",
          "data": {
            "text/plain": [
              "12677"
            ]
          },
          "metadata": {
            "tags": []
          },
          "execution_count": 8
        }
      ]
    },
    {
      "cell_type": "code",
      "metadata": {
        "id": "EKcW9NazP8c9",
        "colab_type": "code",
        "colab": {
          "base_uri": "https://localhost:8080/",
          "height": 34
        },
        "outputId": "b19ca3c5-d95d-4449-dd69-cd0dc4b720e9"
      },
      "source": [
        "total_gols_visitante = df.visitante_gols.sum()\n",
        "total_gols_visitante"
      ],
      "execution_count": null,
      "outputs": [
        {
          "output_type": "execute_result",
          "data": {
            "text/plain": [
              "8356"
            ]
          },
          "metadata": {
            "tags": []
          },
          "execution_count": 9
        }
      ]
    },
    {
      "cell_type": "code",
      "metadata": {
        "id": "RMr_2tZJP_Hm",
        "colab_type": "code",
        "colab": {
          "base_uri": "https://localhost:8080/",
          "height": 34
        },
        "outputId": "4f842877-e5e2-401c-f770-ad0b44f2ead4"
      },
      "source": [
        "total_gols = total_gols_mandante + total_gols_visitante\n",
        "total_gols"
      ],
      "execution_count": null,
      "outputs": [
        {
          "output_type": "execute_result",
          "data": {
            "text/plain": [
              "21033"
            ]
          },
          "metadata": {
            "tags": []
          },
          "execution_count": 10
        }
      ]
    },
    {
      "cell_type": "markdown",
      "metadata": {
        "id": "RvOftHBLjimK",
        "colab_type": "text"
      },
      "source": [
        "O total de gols em todas as edições do campeonato brasileiro foi 21033"
      ]
    },
    {
      "cell_type": "markdown",
      "metadata": {
        "id": "9MH4WhIVMCoz",
        "colab_type": "text"
      },
      "source": [
        "# **Horário com mais jogos no campeonato brasileiro**"
      ]
    },
    {
      "cell_type": "code",
      "metadata": {
        "id": "Vs4OsofXQKmk",
        "colab_type": "code",
        "colab": {
          "base_uri": "https://localhost:8080/",
          "height": 51
        },
        "outputId": "131cb47b-0b3f-470e-caf0-e39761262df7"
      },
      "source": [
        "df.horario.value_counts().head(1)"
      ],
      "execution_count": null,
      "outputs": [
        {
          "output_type": "execute_result",
          "data": {
            "text/plain": [
              "16h00    1804\n",
              "Name: horario, dtype: int64"
            ]
          },
          "metadata": {
            "tags": []
          },
          "execution_count": 11
        }
      ]
    },
    {
      "cell_type": "markdown",
      "metadata": {
        "id": "KEtXURQnj_og",
        "colab_type": "text"
      },
      "source": [
        "O horário com mais jogos no campeonato brasileiro foi as 16h00 e foram realizadas 1804 partidas nesse horário."
      ]
    },
    {
      "cell_type": "markdown",
      "metadata": {
        "id": "Bb6ZMqqlMROr",
        "colab_type": "text"
      },
      "source": [
        "# **Dia da semana com mais jogos**"
      ]
    },
    {
      "cell_type": "code",
      "metadata": {
        "id": "qw1q7lJJQTju",
        "colab_type": "code",
        "colab": {
          "base_uri": "https://localhost:8080/",
          "height": 51
        },
        "outputId": "ea90e5e3-7805-4184-aa4c-731efbf84d91"
      },
      "source": [
        "dia_mais_jogos = df.dia.value_counts()\n",
        "dia_mais_jogos.head(1)"
      ],
      "execution_count": null,
      "outputs": [
        {
          "output_type": "execute_result",
          "data": {
            "text/plain": [
              "Domingo    3673\n",
              "Name: dia, dtype: int64"
            ]
          },
          "metadata": {
            "tags": []
          },
          "execution_count": 12
        }
      ]
    },
    {
      "cell_type": "markdown",
      "metadata": {
        "id": "BSTAVv6dkU2-",
        "colab_type": "text"
      },
      "source": [
        "O dia da semana que teve mais jogos foi o Domingo com 3673 partidas realizadas nesse dia."
      ]
    },
    {
      "cell_type": "markdown",
      "metadata": {
        "id": "r0tb7C7pMW5R",
        "colab_type": "text"
      },
      "source": [
        "# **Dia da semana com menos jogos**"
      ]
    },
    {
      "cell_type": "code",
      "metadata": {
        "id": "Lcq4v7LyQkw7",
        "colab_type": "code",
        "colab": {
          "base_uri": "https://localhost:8080/",
          "height": 51
        },
        "outputId": "3393cf2f-d41d-40bc-b46f-7623d717e749"
      },
      "source": [
        "dia_menos_jogos = df.dia.value_counts()\n",
        "dia_menos_jogos.sort_values(ascending=True).head(1)"
      ],
      "execution_count": null,
      "outputs": [
        {
          "output_type": "execute_result",
          "data": {
            "text/plain": [
              "Sexta-feira    24\n",
              "Name: dia, dtype: int64"
            ]
          },
          "metadata": {
            "tags": []
          },
          "execution_count": 13
        }
      ]
    },
    {
      "cell_type": "markdown",
      "metadata": {
        "id": "ckFB2iFQkg52",
        "colab_type": "text"
      },
      "source": [
        "O dia da semana que teve menos jogos foi a Sexta-feira com 24 partidas realizadas nesse dia."
      ]
    },
    {
      "cell_type": "markdown",
      "metadata": {
        "id": "wZWjLqAMMt29",
        "colab_type": "text"
      },
      "source": [
        "# **Time que mais empatou como mandante**"
      ]
    },
    {
      "cell_type": "code",
      "metadata": {
        "id": "5PGs8T7WRZXC",
        "colab_type": "code",
        "colab": {
          "base_uri": "https://localhost:8080/",
          "height": 51
        },
        "outputId": "00e7b034-80c9-40ba-f6d4-4af8c095a12e"
      },
      "source": [
        "df [df['vencedor'] == '-']['mandante'].value_counts().head(1)"
      ],
      "execution_count": null,
      "outputs": [
        {
          "output_type": "execute_result",
          "data": {
            "text/plain": [
              "Fluminense    101\n",
              "Name: mandante, dtype: int64"
            ]
          },
          "metadata": {
            "tags": []
          },
          "execution_count": 14
        }
      ]
    },
    {
      "cell_type": "markdown",
      "metadata": {
        "id": "4avWpLg3kzM6",
        "colab_type": "text"
      },
      "source": [
        "O time que mais empatou como mandante foi o Fluminense com um total de 101 empates."
      ]
    },
    {
      "cell_type": "markdown",
      "metadata": {
        "id": "UQmvLIIrMzhg",
        "colab_type": "text"
      },
      "source": [
        "# **Time que mais empatou como visitante**"
      ]
    },
    {
      "cell_type": "code",
      "metadata": {
        "id": "N2TclXngoYlU",
        "colab_type": "code",
        "colab": {
          "base_uri": "https://localhost:8080/",
          "height": 51
        },
        "outputId": "fc8f1f3b-07ee-4979-ee81-81dd0ce95a5e"
      },
      "source": [
        "df [df['vencedor'] == '-']['visitante'].value_counts().head(1)"
      ],
      "execution_count": null,
      "outputs": [
        {
          "output_type": "execute_result",
          "data": {
            "text/plain": [
              "Corinthians    105\n",
              "Name: visitante, dtype: int64"
            ]
          },
          "metadata": {
            "tags": []
          },
          "execution_count": 15
        }
      ]
    },
    {
      "cell_type": "markdown",
      "metadata": {
        "id": "8zdAIlcBk_9O",
        "colab_type": "text"
      },
      "source": [
        "O time que mais empatou como visitante foi o Corinthians com um total de 105 empates."
      ]
    },
    {
      "cell_type": "markdown",
      "metadata": {
        "id": "4iQBYiJmNIOm",
        "colab_type": "text"
      },
      "source": [
        "# **Time que mais empatou como mandante no ano de 2019**"
      ]
    },
    {
      "cell_type": "markdown",
      "metadata": {
        "id": "DAAMX52dqYA2",
        "colab_type": "text"
      },
      "source": [
        "Para saber qual foi o time que mais empatou como mandante no ano de 2019, será necessário criar uma nova coluna com apenas as informações dos anos."
      ]
    },
    {
      "cell_type": "markdown",
      "metadata": {
        "id": "ssMbWMMsShWv",
        "colab_type": "text"
      },
      "source": [
        "**Criando nova coluna com o ano das partidas**"
      ]
    },
    {
      "cell_type": "code",
      "metadata": {
        "id": "a3o1SA-sSoGo",
        "colab_type": "code",
        "colab": {}
      },
      "source": [
        "df['ano'] = df['data'].apply(lambda data: data.split('-')[0])"
      ],
      "execution_count": null,
      "outputs": []
    },
    {
      "cell_type": "markdown",
      "metadata": {
        "id": "kHTWahVtqwYc",
        "colab_type": "text"
      },
      "source": [
        "Aqui podemos ver a nova coluna com o nome \"ano\" já criada e com os valores."
      ]
    },
    {
      "cell_type": "code",
      "metadata": {
        "id": "r9caL6ylS0yP",
        "colab_type": "code",
        "colab": {
          "base_uri": "https://localhost:8080/",
          "height": 419
        },
        "outputId": "1b1f5b50-86d8-439f-b66f-e514f26aeeab"
      },
      "source": [
        "df[['ano']]"
      ],
      "execution_count": null,
      "outputs": [
        {
          "output_type": "execute_result",
          "data": {
            "text/html": [
              "<div>\n",
              "<style scoped>\n",
              "    .dataframe tbody tr th:only-of-type {\n",
              "        vertical-align: middle;\n",
              "    }\n",
              "\n",
              "    .dataframe tbody tr th {\n",
              "        vertical-align: top;\n",
              "    }\n",
              "\n",
              "    .dataframe thead th {\n",
              "        text-align: right;\n",
              "    }\n",
              "</style>\n",
              "<table border=\"1\" class=\"dataframe\">\n",
              "  <thead>\n",
              "    <tr style=\"text-align: right;\">\n",
              "      <th></th>\n",
              "      <th>ano</th>\n",
              "    </tr>\n",
              "  </thead>\n",
              "  <tbody>\n",
              "    <tr>\n",
              "      <th>0</th>\n",
              "      <td>2000</td>\n",
              "    </tr>\n",
              "    <tr>\n",
              "      <th>1</th>\n",
              "      <td>2000</td>\n",
              "    </tr>\n",
              "    <tr>\n",
              "      <th>2</th>\n",
              "      <td>2000</td>\n",
              "    </tr>\n",
              "    <tr>\n",
              "      <th>3</th>\n",
              "      <td>2000</td>\n",
              "    </tr>\n",
              "    <tr>\n",
              "      <th>4</th>\n",
              "      <td>2000</td>\n",
              "    </tr>\n",
              "    <tr>\n",
              "      <th>...</th>\n",
              "      <td>...</td>\n",
              "    </tr>\n",
              "    <tr>\n",
              "      <th>7934</th>\n",
              "      <td>2019</td>\n",
              "    </tr>\n",
              "    <tr>\n",
              "      <th>7935</th>\n",
              "      <td>2019</td>\n",
              "    </tr>\n",
              "    <tr>\n",
              "      <th>7936</th>\n",
              "      <td>2019</td>\n",
              "    </tr>\n",
              "    <tr>\n",
              "      <th>7937</th>\n",
              "      <td>2019</td>\n",
              "    </tr>\n",
              "    <tr>\n",
              "      <th>7938</th>\n",
              "      <td>2019</td>\n",
              "    </tr>\n",
              "  </tbody>\n",
              "</table>\n",
              "<p>7939 rows × 1 columns</p>\n",
              "</div>"
            ],
            "text/plain": [
              "       ano\n",
              "0     2000\n",
              "1     2000\n",
              "2     2000\n",
              "3     2000\n",
              "4     2000\n",
              "...    ...\n",
              "7934  2019\n",
              "7935  2019\n",
              "7936  2019\n",
              "7937  2019\n",
              "7938  2019\n",
              "\n",
              "[7939 rows x 1 columns]"
            ]
          },
          "metadata": {
            "tags": []
          },
          "execution_count": 17
        }
      ]
    },
    {
      "cell_type": "markdown",
      "metadata": {
        "id": "xu58M1D2t-w1",
        "colab_type": "text"
      },
      "source": [
        "Após criar a nova coluna com o ano das partidas, podemos saber qual o time que mais empatou como mandante em 2019, para obter essa informação utilizo o seguinte código:"
      ]
    },
    {
      "cell_type": "code",
      "metadata": {
        "id": "-8GgA6NdRvDj",
        "colab_type": "code",
        "colab": {
          "base_uri": "https://localhost:8080/",
          "height": 51
        },
        "outputId": "53166a72-6756-4081-c6b7-ea80915267d7"
      },
      "source": [
        "df[(df['vencedor'] == '-')&(df['ano'] == '2019')]['mandante'].value_counts().head(1)"
      ],
      "execution_count": null,
      "outputs": [
        {
          "output_type": "execute_result",
          "data": {
            "text/plain": [
              "Avaí    9\n",
              "Name: mandante, dtype: int64"
            ]
          },
          "metadata": {
            "tags": []
          },
          "execution_count": 18
        }
      ]
    },
    {
      "cell_type": "markdown",
      "metadata": {
        "id": "_yzB03m1uZP3",
        "colab_type": "text"
      },
      "source": [
        "O clube que mais empatou como mandante em 2019 foi o Avaí com um total de 9 empates."
      ]
    },
    {
      "cell_type": "markdown",
      "metadata": {
        "id": "EKkKslmtMcmB",
        "colab_type": "text"
      },
      "source": [
        "# **Time com maior número de vitórias em todas as edições do campeonato brasileiro**"
      ]
    },
    {
      "cell_type": "code",
      "metadata": {
        "id": "9xDAPe1IeMVM",
        "colab_type": "code",
        "colab": {
          "base_uri": "https://localhost:8080/",
          "height": 85
        },
        "outputId": "369e4baa-03cb-4a86-b413-ee336bd4b4e3"
      },
      "source": [
        "df.vencedor.value_counts().head(3)\n"
      ],
      "execution_count": null,
      "outputs": [
        {
          "output_type": "execute_result",
          "data": {
            "text/plain": [
              "-            2040\n",
              "São Paulo     348\n",
              "Cruzeiro      322\n",
              "Name: vencedor, dtype: int64"
            ]
          },
          "metadata": {
            "tags": []
          },
          "execution_count": 19
        }
      ]
    },
    {
      "cell_type": "markdown",
      "metadata": {
        "id": "klS6CIW9jDQv",
        "colab_type": "text"
      },
      "source": [
        "O São Paulo foi o time que mais venceu em todas as edições do campeonato brasileiro com 348 vitórias."
      ]
    },
    {
      "cell_type": "markdown",
      "metadata": {
        "id": "QdipjJRoM-mN",
        "colab_type": "text"
      },
      "source": [
        "# **Time com maior número de gols como mandante**"
      ]
    },
    {
      "cell_type": "code",
      "metadata": {
        "id": "KyDOEdfqN1Mn",
        "colab_type": "code",
        "colab": {
          "base_uri": "https://localhost:8080/",
          "height": 68
        },
        "outputId": "35c4056e-10e6-4ce8-a24d-aa8d7748482c"
      },
      "source": [
        "mandante_mais_gols = df.groupby(\"mandante\")['mandante_gols'].sum().sort_values(ascending = False).head(1)\n",
        "mandante_mais_gols"
      ],
      "execution_count": null,
      "outputs": [
        {
          "output_type": "execute_result",
          "data": {
            "text/plain": [
              "mandante\n",
              "Santos    691\n",
              "Name: mandante_gols, dtype: int64"
            ]
          },
          "metadata": {
            "tags": []
          },
          "execution_count": 20
        }
      ]
    },
    {
      "cell_type": "markdown",
      "metadata": {
        "id": "NtAflns2rvOg",
        "colab_type": "text"
      },
      "source": [
        "O time que mais marcou gols como mandante foi o Santos com um total de 691 gols."
      ]
    },
    {
      "cell_type": "markdown",
      "metadata": {
        "id": "SMNFQFN8OQ2S",
        "colab_type": "text"
      },
      "source": [
        "# **Top 5 times com maior número de gols como mandante**"
      ]
    },
    {
      "cell_type": "code",
      "metadata": {
        "id": "67UFMJZuN7q0",
        "colab_type": "code",
        "colab": {
          "base_uri": "https://localhost:8080/",
          "height": 136
        },
        "outputId": "dc67a497-f7d9-4da0-f6a6-f0408a79b90a"
      },
      "source": [
        "top5_mandante_mais_gols = df.groupby(\"mandante\")['mandante_gols'].sum().sort_values(ascending = False).head()\n",
        "top5_mandante_mais_gols"
      ],
      "execution_count": null,
      "outputs": [
        {
          "output_type": "execute_result",
          "data": {
            "text/plain": [
              "mandante\n",
              "Santos          691\n",
              "São Paulo       663\n",
              "Cruzeiro        659\n",
              "Atlético-MG     620\n",
              "Athlético-PR    618\n",
              "Name: mandante_gols, dtype: int64"
            ]
          },
          "metadata": {
            "tags": []
          },
          "execution_count": 21
        }
      ]
    },
    {
      "cell_type": "markdown",
      "metadata": {
        "id": "g0NqKnGisEqO",
        "colab_type": "text"
      },
      "source": [
        "Os 5 times com mais marcaram gols como mandante foram o Santos com 691 gols, São Paulo com 663 gols, Cruzeiro com 659 gols, Atlético-MG com 620 gols e o Athlético-PR com 618 gols."
      ]
    },
    {
      "cell_type": "markdown",
      "metadata": {
        "id": "3rNlzmqetI8v",
        "colab_type": "text"
      },
      "source": [
        "**Importando o Matplotlib e o Seaborn e gerando gráfico com a informação obtida**"
      ]
    },
    {
      "cell_type": "markdown",
      "metadata": {
        "id": "sWplUvUHsn23",
        "colab_type": "text"
      },
      "source": [
        "Agora que sabemos os 5 times que mais marcaram gols como mandante, podemos apresentar essa informação de forma visual, para isso, vou usar a bibliotecas Matplotlib e Seaborn."
      ]
    },
    {
      "cell_type": "code",
      "metadata": {
        "id": "CioExIQnNI4O",
        "colab_type": "code",
        "colab": {
          "base_uri": "https://localhost:8080/",
          "height": 346
        },
        "outputId": "07a4a3c2-eead-4103-b29f-7d2248d9abfb"
      },
      "source": [
        "import matplotlib.pyplot as plt\n",
        "import seaborn as sns\n",
        "sns.set_style(\"whitegrid\")\n",
        "top5_mandante_mais_gols.plot(kind='bar', figsize=(4,4))\n",
        "plt.title('Top 5 mandantes com mais gols')\n",
        "plt.ylabel('Gols')\n",
        "plt.xlabel('Times')\n",
        "plt.show()"
      ],
      "execution_count": null,
      "outputs": [
        {
          "output_type": "display_data",
          "data": {
            "image/png": "[encoded data removed]",
            "text/plain": [
              "<Figure size 288x288 with 1 Axes>"
            ]
          },
          "metadata": {
            "tags": []
          }
        }
      ]
    },
    {
      "cell_type": "markdown",
      "metadata": {
        "id": "iXnkQgPYNDkR",
        "colab_type": "text"
      },
      "source": [
        "# **Time com maior número de gols como visitante**"
      ]
    },
    {
      "cell_type": "code",
      "metadata": {
        "id": "21r4CjQQTXtR",
        "colab_type": "code",
        "colab": {
          "base_uri": "https://localhost:8080/",
          "height": 68
        },
        "outputId": "d535dff4-34dd-4168-88f7-89d4459ae598"
      },
      "source": [
        "visitante_mais_gols = df.groupby(\"visitante\")['visitante_gols'].sum().sort_values(ascending = False).head(1)\n",
        "visitante_mais_gols"
      ],
      "execution_count": null,
      "outputs": [
        {
          "output_type": "execute_result",
          "data": {
            "text/plain": [
              "visitante\n",
              "São Paulo    471\n",
              "Name: visitante_gols, dtype: int64"
            ]
          },
          "metadata": {
            "tags": []
          },
          "execution_count": 24
        }
      ]
    },
    {
      "cell_type": "markdown",
      "metadata": {
        "id": "HYRew_ZBtUKy",
        "colab_type": "text"
      },
      "source": [
        "O time com o maior número de gols como visitante é o São Paulo com um total de 471 gols."
      ]
    },
    {
      "cell_type": "markdown",
      "metadata": {
        "id": "ECODcy0QkmwI",
        "colab_type": "text"
      },
      "source": [
        "# **Estádio que mais recebeu partidas**"
      ]
    },
    {
      "cell_type": "code",
      "metadata": {
        "id": "GOVPLga7kT4J",
        "colab_type": "code",
        "colab": {
          "base_uri": "https://localhost:8080/",
          "height": 119
        },
        "outputId": "ba45ba46-b9e8-45f0-d8f6-2b964b6a308e"
      },
      "source": [
        "top_5_estadios_mais_jogos = df.arena.value_counts().head()\n",
        "top_5_estadios_mais_jogos"
      ],
      "execution_count": null,
      "outputs": [
        {
          "output_type": "execute_result",
          "data": {
            "text/plain": [
              "Maracanã         593\n",
              "Mineirão         447\n",
              "Morumbi          387\n",
              "Beira Rio        333\n",
              "Serra Dourada    332\n",
              "Name: arena, dtype: int64"
            ]
          },
          "metadata": {
            "tags": []
          },
          "execution_count": 25
        }
      ]
    },
    {
      "cell_type": "markdown",
      "metadata": {
        "id": "bVJuY4Kltnj5",
        "colab_type": "text"
      },
      "source": [
        "O 5 estádios que mais receberam partidas foram o Maracanã com 593 partidas, Minerão com 447 partidas, Morumbi com 387 partidas, Beira Rio com 333 partidas e o Serra Dourada com 332 partidas."
      ]
    },
    {
      "cell_type": "markdown",
      "metadata": {
        "id": "FCeSscJyuOZp",
        "colab_type": "text"
      },
      "source": [
        "Agora, logo abaixo a mesma informação só que de forma visual."
      ]
    },
    {
      "cell_type": "code",
      "metadata": {
        "id": "k140_2m8lZOi",
        "colab_type": "code",
        "colab": {
          "base_uri": "https://localhost:8080/",
          "height": 358
        },
        "outputId": "16ff86ac-3152-41db-ca8f-4ed1de6eaab5"
      },
      "source": [
        "top_5_estadios_mais_jogos.plot(kind='bar', figsize=(4,4))\n",
        "plt.title('5 estádios que receberam mais partidas')\n",
        "plt.ylabel('Jogos')\n",
        "plt.xlabel('estádios')\n",
        "plt.show()"
      ],
      "execution_count": null,
      "outputs": [
        {
          "output_type": "display_data",
          "data": {
            "image/png": "[encoded data removed]",
            "text/plain": [
              "<Figure size 288x288 with 1 Axes>"
            ]
          },
          "metadata": {
            "tags": []
          }
        }
      ]
    },
    {
      "cell_type": "markdown",
      "metadata": {
        "id": "9QARKUTEWtsw",
        "colab_type": "text"
      },
      "source": [
        "# **Ano com maior número de partidas**"
      ]
    },
    {
      "cell_type": "code",
      "metadata": {
        "id": "kcngGIMFUDJZ",
        "colab_type": "code",
        "colab": {
          "base_uri": "https://localhost:8080/",
          "height": 68
        },
        "outputId": "4bf65d91-a0c1-4529-b6a4-f7df6e44dce5"
      },
      "source": [
        "anos_com_mais_jogos = df.ano.value_counts().head(2)\n",
        "anos_com_mais_jogos"
      ],
      "execution_count": null,
      "outputs": [
        {
          "output_type": "execute_result",
          "data": {
            "text/plain": [
              "2003    552\n",
              "2004    552\n",
              "Name: ano, dtype: int64"
            ]
          },
          "metadata": {
            "tags": []
          },
          "execution_count": 27
        }
      ]
    },
    {
      "cell_type": "markdown",
      "metadata": {
        "id": "-9RzjNplultC",
        "colab_type": "text"
      },
      "source": [
        "Os anos 2003 e 2004 tiveram mais partidas, foram um total de 552 partidas em cada ano."
      ]
    },
    {
      "cell_type": "markdown",
      "metadata": {
        "id": "P3PzeIEVW3uD",
        "colab_type": "text"
      },
      "source": [
        "# **Ano com menor número de partidas**"
      ]
    },
    {
      "cell_type": "code",
      "metadata": {
        "id": "_QalfLhdW79I",
        "colab_type": "code",
        "colab": {
          "base_uri": "https://localhost:8080/",
          "height": 51
        },
        "outputId": "a4afb108-9737-43fe-ebcb-2b60d48f6eca"
      },
      "source": [
        "ano_com_menos_jogos = df.ano.value_counts().sort_values(ascending=True).head(1)\n",
        "ano_com_menos_jogos"
      ],
      "execution_count": null,
      "outputs": [
        {
          "output_type": "execute_result",
          "data": {
            "text/plain": [
              "2000    329\n",
              "Name: ano, dtype: int64"
            ]
          },
          "metadata": {
            "tags": []
          },
          "execution_count": 28
        }
      ]
    },
    {
      "cell_type": "markdown",
      "metadata": {
        "id": "TzcHbX6ju9M0",
        "colab_type": "text"
      },
      "source": [
        "O ano 2000 foi o ano que menos recebeu partidas, foram 329 no total."
      ]
    },
    {
      "cell_type": "markdown",
      "metadata": {
        "id": "o1XujtY2ZOBO",
        "colab_type": "text"
      },
      "source": [
        "# **Quantidade de partidas por ano**"
      ]
    },
    {
      "cell_type": "markdown",
      "metadata": {
        "id": "eAnRMRJavUpz",
        "colab_type": "text"
      },
      "source": [
        "De forma visual, é apresentado abaixo a quantidade de partidas por ano, de 2000 até 2019."
      ]
    },
    {
      "cell_type": "code",
      "metadata": {
        "id": "tWStgBPJY1Xw",
        "colab_type": "code",
        "colab": {}
      },
      "source": [
        "quantidade_partidas_ano = df.ano.value_counts()"
      ],
      "execution_count": null,
      "outputs": []
    },
    {
      "cell_type": "code",
      "metadata": {
        "id": "fndWOdfXU8zN",
        "colab_type": "code",
        "colab": {
          "base_uri": "https://localhost:8080/",
          "height": 295
        },
        "outputId": "bdd9ef33-d34f-4eb0-bab6-25f859ed388e"
      },
      "source": [
        "quantidade_partidas_ano.plot()\n",
        "plt.title('Quantidade de partidas por ano')\n",
        "plt.ylabel('Partidas')\n",
        "plt.xlabel('Ano')\n",
        "plt.show()"
      ],
      "execution_count": null,
      "outputs": [
        {
          "output_type": "display_data",
          "data": {
            "image/png": "[encoded data removed]",
            "text/plain": [
              "<Figure size 432x288 with 1 Axes>"
            ]
          },
          "metadata": {
            "tags": []
          }
        }
      ]
    },
    {
      "cell_type": "markdown",
      "metadata": {
        "id": "ga9ddAGuwEZT",
        "colab_type": "text"
      },
      "source": [
        "Com essa visualização podemos perceber que o número de partidas se manteve a mesma desde o ano 2009 até o ano de 2019."
      ]
    },
    {
      "cell_type": "markdown",
      "metadata": {
        "id": "EnZJmxxJwgKN",
        "colab_type": "text"
      },
      "source": [
        "# **Conclusão**"
      ]
    },
    {
      "cell_type": "markdown",
      "metadata": {
        "id": "LmV-cGsawlM6",
        "colab_type": "text"
      },
      "source": [
        "Nessa análise obtemos várias informações relevantes sobre o campeonato brasileiro de 2000 até 2019, algumas como o total de gols, estádio com mais jogos e horário que teve mais partidas. Extraímos essas informações e visualizamos os gráficos utilizando Python, Pandas, Matplotlib e Seaborn."
      ]
    }
  ]
}
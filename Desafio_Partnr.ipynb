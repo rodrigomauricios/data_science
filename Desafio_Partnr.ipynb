{
  "nbformat": 4,
  "nbformat_minor": 0,
  "metadata": {
    "colab": {
      "name": "Desafio - Partnr.ipynb",
      "provenance": [],
      "authorship_tag": "ABX9TyN0ogGHjr6G2eh8OPoU4M0b",
      "include_colab_link": true
    },
    "kernelspec": {
      "name": "python3",
      "display_name": "Python 3"
    },
    "language_info": {
      "name": "python"
    }
  },
  "cells": [
    {
      "cell_type": "markdown",
      "metadata": {
        "id": "view-in-github",
        "colab_type": "text"
      },
      "source": [
        "<a href=\"https://colab.research.google.com/github/rodrigomauricios/data_science/blob/master/Desafio_Partnr.ipynb\" target=\"_parent\"><img src=\"https://colab.research.google.com/assets/colab-badge.svg\" alt=\"Open In Colab\"/></a>"
      ]
    },
    {
      "cell_type": "markdown",
      "metadata": {
        "id": "kDXfnPoIaGi9"
      },
      "source": [
        "# **ETL**"
      ]
    },
    {
      "cell_type": "markdown",
      "metadata": {
        "id": "0r79tD5WXUx4"
      },
      "source": [
        "# **Importação da bibliotecas**\n",
        "\n",
        "Importando as bibliotecas que serão utilizadas para realizar o Web Scraping.\n",
        "A bilbioteca Requests será utilizada para fazer a requisição da URL, a biblioteca BeautifulSoup para selecionar a parte do site que será utilizada e o Pandas para o tratamento dos dados."
      ]
    },
    {
      "cell_type": "code",
      "metadata": {
        "id": "MdyQNm39onKg"
      },
      "source": [
        "import pandas as pd\n",
        "import requests\n",
        "from bs4 import BeautifulSoup"
      ],
      "execution_count": 57,
      "outputs": []
    },
    {
      "cell_type": "markdown",
      "metadata": {
        "id": "NtS5d_zdimy_"
      },
      "source": [
        "\n",
        "\n",
        "1.   A URL do site foi inserida na variável \"url\"\n",
        "1.   Efetua a requisição no site e armazena na variável \"req\"\n",
        "2.   Seleciona o conteúdo do site e armazena na variável \"soup\"\n",
        "2.   Seleciona a parte do site onde fica os dados que serão utilizados e armazena na variável \"tabela\"\n",
        "\n"
      ]
    },
    {
      "cell_type": "code",
      "metadata": {
        "id": "6UyeCtz-e4F2"
      },
      "source": [
        "url = 'http://bvmf.bmfbovespa.com.br/cias-listadas/empresas-listadas/ResumoProventosDinheiro.aspx?codigoCvm=9512&tab=3.1&idioma=pt-br'\n",
        "req = requests.get(url)\n",
        "soup = BeautifulSoup(req.content, 'html.parser')\n",
        "tabela = soup.find_all('tr', class_=\"GridRow_SiteBmfBovespa GridBovespaItemStyle\")"
      ],
      "execution_count": 61,
      "outputs": []
    },
    {
      "cell_type": "markdown",
      "metadata": {
        "id": "MwZP9Y88ZT67"
      },
      "source": [
        "# **Criação do DataFrame Pandas**\n",
        "\n",
        "Criando um DataFrame com a parte coletada do site onde fica a tabela"
      ]
    },
    {
      "cell_type": "code",
      "metadata": {
        "colab": {
          "base_uri": "https://localhost:8080/"
        },
        "id": "fwUUR89d731s",
        "outputId": "160b9b1b-23cc-4e45-ebdb-6f5e72eefcb1"
      },
      "source": [
        "df = pd.DataFrame(tabela)"
      ],
      "execution_count": 62,
      "outputs": [
        {
          "output_type": "stream",
          "text": [
            "/usr/local/lib/python3.7/dist-packages/pandas/core/internals/construction.py:305: VisibleDeprecationWarning: Creating an ndarray from ragged nested sequences (which is a list-or-tuple of lists-or-tuples-or ndarrays with different lengths or shapes) is deprecated. If you meant to do this, you must specify 'dtype=object' when creating the ndarray\n",
            "  values = np.array([convert(v) for v in values])\n"
          ],
          "name": "stderr"
        }
      ]
    },
    {
      "cell_type": "markdown",
      "metadata": {
        "id": "MVoWUR74Z2U0"
      },
      "source": [
        "**Visualização do DataFrame**"
      ]
    },
    {
      "cell_type": "code",
      "metadata": {
        "colab": {
          "base_uri": "https://localhost:8080/",
          "height": 204
        },
        "id": "AZQeg-t777r3",
        "outputId": "0ab42a31-37d4-444b-e7e7-b139cc8920fa"
      },
      "source": [
        "df.head()"
      ],
      "execution_count": 63,
      "outputs": [
        {
          "output_type": "execute_result",
          "data": {
            "text/html": [
              "<div>\n",
              "<style scoped>\n",
              "    .dataframe tbody tr th:only-of-type {\n",
              "        vertical-align: middle;\n",
              "    }\n",
              "\n",
              "    .dataframe tbody tr th {\n",
              "        vertical-align: top;\n",
              "    }\n",
              "\n",
              "    .dataframe thead th {\n",
              "        text-align: right;\n",
              "    }\n",
              "</style>\n",
              "<table border=\"1\" class=\"dataframe\">\n",
              "  <thead>\n",
              "    <tr style=\"text-align: right;\">\n",
              "      <th></th>\n",
              "      <th>0</th>\n",
              "      <th>1</th>\n",
              "      <th>2</th>\n",
              "      <th>3</th>\n",
              "      <th>4</th>\n",
              "      <th>5</th>\n",
              "      <th>6</th>\n",
              "      <th>7</th>\n",
              "      <th>8</th>\n",
              "      <th>9</th>\n",
              "      <th>10</th>\n",
              "      <th>11</th>\n",
              "    </tr>\n",
              "  </thead>\n",
              "  <tbody>\n",
              "    <tr>\n",
              "      <th>0</th>\n",
              "      <td>\\n</td>\n",
              "      <td>[ON]</td>\n",
              "      <td>[21/03/1996]</td>\n",
              "      <td>[0,9882]</td>\n",
              "      <td>[1000]</td>\n",
              "      <td>[DIVIDENDO]</td>\n",
              "      <td>[21/03/1996]</td>\n",
              "      <td>[20/03/1996]</td>\n",
              "      <td>[54,00]</td>\n",
              "      <td>[1000]</td>\n",
              "      <td>[1,830000]</td>\n",
              "      <td>\\n</td>\n",
              "    </tr>\n",
              "    <tr>\n",
              "      <th>1</th>\n",
              "      <td>\\n</td>\n",
              "      <td>[ON]</td>\n",
              "      <td>[21/03/1997]</td>\n",
              "      <td>[0,47]</td>\n",
              "      <td>[1000]</td>\n",
              "      <td>[DIVIDENDO]</td>\n",
              "      <td>[21/03/1997]</td>\n",
              "      <td>[20/03/1997]</td>\n",
              "      <td>[169,00]</td>\n",
              "      <td>[1000]</td>\n",
              "      <td>[0,278107]</td>\n",
              "      <td>\\n</td>\n",
              "    </tr>\n",
              "    <tr>\n",
              "      <th>2</th>\n",
              "      <td>\\n</td>\n",
              "      <td>[ON]</td>\n",
              "      <td>[24/03/1998]</td>\n",
              "      <td>[0,6003833]</td>\n",
              "      <td>[1000]</td>\n",
              "      <td>[DIVIDENDO]</td>\n",
              "      <td>[24/03/1998]</td>\n",
              "      <td>[24/03/1998]</td>\n",
              "      <td>[212,00]</td>\n",
              "      <td>[1000]</td>\n",
              "      <td>[0,283200]</td>\n",
              "      <td>\\n</td>\n",
              "    </tr>\n",
              "    <tr>\n",
              "      <th>3</th>\n",
              "      <td>\\n</td>\n",
              "      <td>[ON]</td>\n",
              "      <td>[24/03/1998]</td>\n",
              "      <td>[0,05941386]</td>\n",
              "      <td>[1000]</td>\n",
              "      <td>[DIVIDENDO]</td>\n",
              "      <td>[24/03/1998]</td>\n",
              "      <td>[24/03/1998]</td>\n",
              "      <td>[212,00]</td>\n",
              "      <td>[1000]</td>\n",
              "      <td>[0,028025]</td>\n",
              "      <td>\\n</td>\n",
              "    </tr>\n",
              "    <tr>\n",
              "      <th>4</th>\n",
              "      <td>\\n</td>\n",
              "      <td>[ON]</td>\n",
              "      <td>[24/03/1999]</td>\n",
              "      <td>[0,1073]</td>\n",
              "      <td>[1000]</td>\n",
              "      <td>[DIVIDENDO]</td>\n",
              "      <td>[24/03/1999]</td>\n",
              "      <td>[24/03/1999]</td>\n",
              "      <td>[155,00]</td>\n",
              "      <td>[1000]</td>\n",
              "      <td>[0,069226]</td>\n",
              "      <td>\\n</td>\n",
              "    </tr>\n",
              "  </tbody>\n",
              "</table>\n",
              "</div>"
            ],
            "text/plain": [
              "   0     1             2             3   ...        8       9           10  11\n",
              "0  \\n  [ON]  [21/03/1996]      [0,9882]  ...   [54,00]  [1000]  [1,830000]  \\n\n",
              "1  \\n  [ON]  [21/03/1997]        [0,47]  ...  [169,00]  [1000]  [0,278107]  \\n\n",
              "2  \\n  [ON]  [24/03/1998]   [0,6003833]  ...  [212,00]  [1000]  [0,283200]  \\n\n",
              "3  \\n  [ON]  [24/03/1998]  [0,05941386]  ...  [212,00]  [1000]  [0,028025]  \\n\n",
              "4  \\n  [ON]  [24/03/1999]      [0,1073]  ...  [155,00]  [1000]  [0,069226]  \\n\n",
              "\n",
              "[5 rows x 12 columns]"
            ]
          },
          "metadata": {
            "tags": []
          },
          "execution_count": 63
        }
      ]
    },
    {
      "cell_type": "markdown",
      "metadata": {
        "id": "V9qCaCxDb_3m"
      },
      "source": [
        "**Exclusão das colunas que não serão utilizadas, pois, não tem informação nelas**"
      ]
    },
    {
      "cell_type": "code",
      "metadata": {
        "id": "nCr2Na5ppuj6"
      },
      "source": [
        "df.drop(0, axis=1, inplace=True)\n",
        "df.drop(11, axis=1, inplace=True)"
      ],
      "execution_count": 64,
      "outputs": []
    },
    {
      "cell_type": "markdown",
      "metadata": {
        "id": "p9gkdZtYcVZi"
      },
      "source": [
        "**Visualização do DataFrame com apenas as colunas úteis**"
      ]
    },
    {
      "cell_type": "code",
      "metadata": {
        "colab": {
          "base_uri": "https://localhost:8080/",
          "height": 204
        },
        "id": "nX5tkg1vqfzP",
        "outputId": "9873ab5f-7bf5-437c-f6b5-a781a645bd7e"
      },
      "source": [
        "df.head()"
      ],
      "execution_count": 65,
      "outputs": [
        {
          "output_type": "execute_result",
          "data": {
            "text/html": [
              "<div>\n",
              "<style scoped>\n",
              "    .dataframe tbody tr th:only-of-type {\n",
              "        vertical-align: middle;\n",
              "    }\n",
              "\n",
              "    .dataframe tbody tr th {\n",
              "        vertical-align: top;\n",
              "    }\n",
              "\n",
              "    .dataframe thead th {\n",
              "        text-align: right;\n",
              "    }\n",
              "</style>\n",
              "<table border=\"1\" class=\"dataframe\">\n",
              "  <thead>\n",
              "    <tr style=\"text-align: right;\">\n",
              "      <th></th>\n",
              "      <th>1</th>\n",
              "      <th>2</th>\n",
              "      <th>3</th>\n",
              "      <th>4</th>\n",
              "      <th>5</th>\n",
              "      <th>6</th>\n",
              "      <th>7</th>\n",
              "      <th>8</th>\n",
              "      <th>9</th>\n",
              "      <th>10</th>\n",
              "    </tr>\n",
              "  </thead>\n",
              "  <tbody>\n",
              "    <tr>\n",
              "      <th>0</th>\n",
              "      <td>[ON]</td>\n",
              "      <td>[21/03/1996]</td>\n",
              "      <td>[0,9882]</td>\n",
              "      <td>[1000]</td>\n",
              "      <td>[DIVIDENDO]</td>\n",
              "      <td>[21/03/1996]</td>\n",
              "      <td>[20/03/1996]</td>\n",
              "      <td>[54,00]</td>\n",
              "      <td>[1000]</td>\n",
              "      <td>[1,830000]</td>\n",
              "    </tr>\n",
              "    <tr>\n",
              "      <th>1</th>\n",
              "      <td>[ON]</td>\n",
              "      <td>[21/03/1997]</td>\n",
              "      <td>[0,47]</td>\n",
              "      <td>[1000]</td>\n",
              "      <td>[DIVIDENDO]</td>\n",
              "      <td>[21/03/1997]</td>\n",
              "      <td>[20/03/1997]</td>\n",
              "      <td>[169,00]</td>\n",
              "      <td>[1000]</td>\n",
              "      <td>[0,278107]</td>\n",
              "    </tr>\n",
              "    <tr>\n",
              "      <th>2</th>\n",
              "      <td>[ON]</td>\n",
              "      <td>[24/03/1998]</td>\n",
              "      <td>[0,6003833]</td>\n",
              "      <td>[1000]</td>\n",
              "      <td>[DIVIDENDO]</td>\n",
              "      <td>[24/03/1998]</td>\n",
              "      <td>[24/03/1998]</td>\n",
              "      <td>[212,00]</td>\n",
              "      <td>[1000]</td>\n",
              "      <td>[0,283200]</td>\n",
              "    </tr>\n",
              "    <tr>\n",
              "      <th>3</th>\n",
              "      <td>[ON]</td>\n",
              "      <td>[24/03/1998]</td>\n",
              "      <td>[0,05941386]</td>\n",
              "      <td>[1000]</td>\n",
              "      <td>[DIVIDENDO]</td>\n",
              "      <td>[24/03/1998]</td>\n",
              "      <td>[24/03/1998]</td>\n",
              "      <td>[212,00]</td>\n",
              "      <td>[1000]</td>\n",
              "      <td>[0,028025]</td>\n",
              "    </tr>\n",
              "    <tr>\n",
              "      <th>4</th>\n",
              "      <td>[ON]</td>\n",
              "      <td>[24/03/1999]</td>\n",
              "      <td>[0,1073]</td>\n",
              "      <td>[1000]</td>\n",
              "      <td>[DIVIDENDO]</td>\n",
              "      <td>[24/03/1999]</td>\n",
              "      <td>[24/03/1999]</td>\n",
              "      <td>[155,00]</td>\n",
              "      <td>[1000]</td>\n",
              "      <td>[0,069226]</td>\n",
              "    </tr>\n",
              "  </tbody>\n",
              "</table>\n",
              "</div>"
            ],
            "text/plain": [
              "     1             2             3   ...        8       9           10\n",
              "0  [ON]  [21/03/1996]      [0,9882]  ...   [54,00]  [1000]  [1,830000]\n",
              "1  [ON]  [21/03/1997]        [0,47]  ...  [169,00]  [1000]  [0,278107]\n",
              "2  [ON]  [24/03/1998]   [0,6003833]  ...  [212,00]  [1000]  [0,283200]\n",
              "3  [ON]  [24/03/1998]  [0,05941386]  ...  [212,00]  [1000]  [0,028025]\n",
              "4  [ON]  [24/03/1999]      [0,1073]  ...  [155,00]  [1000]  [0,069226]\n",
              "\n",
              "[5 rows x 10 columns]"
            ]
          },
          "metadata": {
            "tags": []
          },
          "execution_count": 65
        }
      ]
    },
    {
      "cell_type": "markdown",
      "metadata": {
        "id": "ZsYFBikUc1Xl"
      },
      "source": [
        "**Renomeando as colunas e convertendo elas para String**\n",
        "\n",
        "Os dados vieram como lista, nesse caso uso um comando que além de converter de lista para String, insere esses dados alterados em novas colunas com novos nomes."
      ]
    },
    {
      "cell_type": "code",
      "metadata": {
        "id": "thPfJEPn5nHQ"
      },
      "source": [
        "df['tipo_ativo'] = df[1].apply(lambda x: ','.join(map(str, x)))\n",
        "df['data_aprovacao'] = df[2].apply(lambda x: ','.join(map(str, x)))\n",
        "df['valor_do_provento'] = df[3].apply(lambda x: ','.join(map(str, x)))\n",
        "df['proventos_por_unidade_ou_mil'] = df[4].apply(lambda x: ','.join(map(str, x)))\n",
        "df['tipo_do_provento'] = df[5].apply(lambda x: ','.join(map(str, x)))\n",
        "df['ult_dia_com'] = df[6].apply(lambda x: ','.join(map(str, x)))\n",
        "df['data_ult_preco_com'] = df[7].apply(lambda x: ','.join(map(str, x)))\n",
        "df['ult_preco_com'] = df[8].apply(lambda x: ','.join(map(str, x)))\n",
        "df['preco_por_unidade_ou_mil'] = df[9].apply(lambda x: ','.join(map(str, x)))\n",
        "df['provento_preco'] = df[10].apply(lambda x: ','.join(map(str, x)))"
      ],
      "execution_count": 66,
      "outputs": []
    },
    {
      "cell_type": "markdown",
      "metadata": {
        "id": "mIObu90ndPwQ"
      },
      "source": [
        "**Exclusão das colunas antigas**\n",
        "\n",
        "Após renomear as colunas e converte-las para String, efetuo a exclusão das colunas antigas que estavam como lista e com os nomes antigos"
      ]
    },
    {
      "cell_type": "code",
      "metadata": {
        "id": "gjaEY3pZ8mJY"
      },
      "source": [
        "df.drop(1, axis=1, inplace=True)\n",
        "df.drop(2, axis=1, inplace=True)\n",
        "df.drop(3, axis=1, inplace=True)\n",
        "df.drop(4, axis=1, inplace=True)\n",
        "df.drop(5, axis=1, inplace=True)\n",
        "df.drop(6, axis=1, inplace=True)\n",
        "df.drop(7, axis=1, inplace=True)\n",
        "df.drop(8, axis=1, inplace=True)\n",
        "df.drop(9, axis=1, inplace=True)\n",
        "df.drop(10, axis=1, inplace=True)"
      ],
      "execution_count": 67,
      "outputs": []
    },
    {
      "cell_type": "markdown",
      "metadata": {
        "id": "GDis3NbNeqCV"
      },
      "source": [
        "**Visualização dos dados após as alterações**"
      ]
    },
    {
      "cell_type": "code",
      "metadata": {
        "colab": {
          "base_uri": "https://localhost:8080/",
          "height": 131
        },
        "id": "iuydhAKQ5zW3",
        "outputId": "739671a6-4a2d-47a8-e1c1-68dbbe75b219"
      },
      "source": [
        "df.head(2)"
      ],
      "execution_count": 68,
      "outputs": [
        {
          "output_type": "execute_result",
          "data": {
            "text/html": [
              "<div>\n",
              "<style scoped>\n",
              "    .dataframe tbody tr th:only-of-type {\n",
              "        vertical-align: middle;\n",
              "    }\n",
              "\n",
              "    .dataframe tbody tr th {\n",
              "        vertical-align: top;\n",
              "    }\n",
              "\n",
              "    .dataframe thead th {\n",
              "        text-align: right;\n",
              "    }\n",
              "</style>\n",
              "<table border=\"1\" class=\"dataframe\">\n",
              "  <thead>\n",
              "    <tr style=\"text-align: right;\">\n",
              "      <th></th>\n",
              "      <th>tipo_ativo</th>\n",
              "      <th>data_aprovacao</th>\n",
              "      <th>valor_do_provento</th>\n",
              "      <th>proventos_por_unidade_ou_mil</th>\n",
              "      <th>tipo_do_provento</th>\n",
              "      <th>ult_dia_com</th>\n",
              "      <th>data_ult_preco_com</th>\n",
              "      <th>ult_preco_com</th>\n",
              "      <th>preco_por_unidade_ou_mil</th>\n",
              "      <th>provento_preco</th>\n",
              "    </tr>\n",
              "  </thead>\n",
              "  <tbody>\n",
              "    <tr>\n",
              "      <th>0</th>\n",
              "      <td>ON</td>\n",
              "      <td>21/03/1996</td>\n",
              "      <td>0,9882</td>\n",
              "      <td>1000</td>\n",
              "      <td>DIVIDENDO</td>\n",
              "      <td>21/03/1996</td>\n",
              "      <td>20/03/1996</td>\n",
              "      <td>54,00</td>\n",
              "      <td>1000</td>\n",
              "      <td>1,830000</td>\n",
              "    </tr>\n",
              "    <tr>\n",
              "      <th>1</th>\n",
              "      <td>ON</td>\n",
              "      <td>21/03/1997</td>\n",
              "      <td>0,47</td>\n",
              "      <td>1000</td>\n",
              "      <td>DIVIDENDO</td>\n",
              "      <td>21/03/1997</td>\n",
              "      <td>20/03/1997</td>\n",
              "      <td>169,00</td>\n",
              "      <td>1000</td>\n",
              "      <td>0,278107</td>\n",
              "    </tr>\n",
              "  </tbody>\n",
              "</table>\n",
              "</div>"
            ],
            "text/plain": [
              "  tipo_ativo data_aprovacao  ... preco_por_unidade_ou_mil provento_preco\n",
              "0         ON     21/03/1996  ...                     1000       1,830000\n",
              "1         ON     21/03/1997  ...                     1000       0,278107\n",
              "\n",
              "[2 rows x 10 columns]"
            ]
          },
          "metadata": {
            "tags": []
          },
          "execution_count": 68
        }
      ]
    },
    {
      "cell_type": "markdown",
      "metadata": {
        "id": "5Z7-TXvUe3TF"
      },
      "source": [
        "# **Substituindo vírgulas por pontos**\n",
        "Efetuando a substituição de vírgulas por pontos para caso precise efetuar alguma operação matemática"
      ]
    },
    {
      "cell_type": "code",
      "metadata": {
        "id": "0vhyxeiS_XE5"
      },
      "source": [
        "df.valor_do_provento = [col.replace(\",\", \".\") for col in df.valor_do_provento]\n",
        "df.ult_preco_com = [col.replace(\",\", \".\") for col in df.ult_preco_com]\n",
        "df.provento_preco = [col.replace(\",\", \".\") for col in df.provento_preco]"
      ],
      "execution_count": 69,
      "outputs": []
    },
    {
      "cell_type": "markdown",
      "metadata": {
        "id": "oam8u4JBfYqT"
      },
      "source": [
        "**Visualização do DataFrame após essa alteração**"
      ]
    },
    {
      "cell_type": "code",
      "metadata": {
        "colab": {
          "base_uri": "https://localhost:8080/",
          "height": 131
        },
        "id": "cGXqpW5C_ehe",
        "outputId": "f198f90d-e7ff-4666-91f6-19adaf1784bc"
      },
      "source": [
        "df.head(2)"
      ],
      "execution_count": 70,
      "outputs": [
        {
          "output_type": "execute_result",
          "data": {
            "text/html": [
              "<div>\n",
              "<style scoped>\n",
              "    .dataframe tbody tr th:only-of-type {\n",
              "        vertical-align: middle;\n",
              "    }\n",
              "\n",
              "    .dataframe tbody tr th {\n",
              "        vertical-align: top;\n",
              "    }\n",
              "\n",
              "    .dataframe thead th {\n",
              "        text-align: right;\n",
              "    }\n",
              "</style>\n",
              "<table border=\"1\" class=\"dataframe\">\n",
              "  <thead>\n",
              "    <tr style=\"text-align: right;\">\n",
              "      <th></th>\n",
              "      <th>tipo_ativo</th>\n",
              "      <th>data_aprovacao</th>\n",
              "      <th>valor_do_provento</th>\n",
              "      <th>proventos_por_unidade_ou_mil</th>\n",
              "      <th>tipo_do_provento</th>\n",
              "      <th>ult_dia_com</th>\n",
              "      <th>data_ult_preco_com</th>\n",
              "      <th>ult_preco_com</th>\n",
              "      <th>preco_por_unidade_ou_mil</th>\n",
              "      <th>provento_preco</th>\n",
              "    </tr>\n",
              "  </thead>\n",
              "  <tbody>\n",
              "    <tr>\n",
              "      <th>0</th>\n",
              "      <td>ON</td>\n",
              "      <td>21/03/1996</td>\n",
              "      <td>0.9882</td>\n",
              "      <td>1000</td>\n",
              "      <td>DIVIDENDO</td>\n",
              "      <td>21/03/1996</td>\n",
              "      <td>20/03/1996</td>\n",
              "      <td>54.00</td>\n",
              "      <td>1000</td>\n",
              "      <td>1.830000</td>\n",
              "    </tr>\n",
              "    <tr>\n",
              "      <th>1</th>\n",
              "      <td>ON</td>\n",
              "      <td>21/03/1997</td>\n",
              "      <td>0.47</td>\n",
              "      <td>1000</td>\n",
              "      <td>DIVIDENDO</td>\n",
              "      <td>21/03/1997</td>\n",
              "      <td>20/03/1997</td>\n",
              "      <td>169.00</td>\n",
              "      <td>1000</td>\n",
              "      <td>0.278107</td>\n",
              "    </tr>\n",
              "  </tbody>\n",
              "</table>\n",
              "</div>"
            ],
            "text/plain": [
              "  tipo_ativo data_aprovacao  ... preco_por_unidade_ou_mil provento_preco\n",
              "0         ON     21/03/1996  ...                     1000       1.830000\n",
              "1         ON     21/03/1997  ...                     1000       0.278107\n",
              "\n",
              "[2 rows x 10 columns]"
            ]
          },
          "metadata": {
            "tags": []
          },
          "execution_count": 70
        }
      ]
    },
    {
      "cell_type": "markdown",
      "metadata": {
        "id": "63p9UnOqgTZK"
      },
      "source": [
        "**Convertendo algumas colunas para tipo numerico**"
      ]
    },
    {
      "cell_type": "code",
      "metadata": {
        "id": "hkmteIJxB54K"
      },
      "source": [
        "df[[\"valor_do_provento\", \"proventos_por_unidade_ou_mil\", \"ult_preco_com\", \n",
        "    \"preco_por_unidade_ou_mil\", \"provento_preco\"]] = df[[\"valor_do_provento\", \"proventos_por_unidade_ou_mil\", \"ult_preco_com\", \n",
        "    \"preco_por_unidade_ou_mil\", \"provento_preco\"]].apply(pd.to_numeric)"
      ],
      "execution_count": 71,
      "outputs": []
    },
    {
      "cell_type": "markdown",
      "metadata": {
        "id": "aQgE_H4Vgjp9"
      },
      "source": [
        "**Convertendo colunas com valores de data para o tipo Datetime**"
      ]
    },
    {
      "cell_type": "code",
      "metadata": {
        "id": "bsqf6hmdDwBA"
      },
      "source": [
        "df[[\"data_aprovacao\", \"ult_dia_com\", \"data_ult_preco_com\"]] = df[[\"data_aprovacao\", \"ult_dia_com\", \"data_ult_preco_com\"]].apply(pd.to_datetime)"
      ],
      "execution_count": 72,
      "outputs": []
    },
    {
      "cell_type": "markdown",
      "metadata": {
        "id": "wEgvJscjgy9E"
      },
      "source": [
        "**Utilizando comando para verificar o tipo de cada coluna após as alterações**"
      ]
    },
    {
      "cell_type": "code",
      "metadata": {
        "colab": {
          "base_uri": "https://localhost:8080/"
        },
        "id": "lojYp83MwAxB",
        "outputId": "5079d037-40b3-4add-a43d-44394196a76a"
      },
      "source": [
        "df.info()"
      ],
      "execution_count": 73,
      "outputs": [
        {
          "output_type": "stream",
          "text": [
            "<class 'pandas.core.frame.DataFrame'>\n",
            "RangeIndex: 102 entries, 0 to 101\n",
            "Data columns (total 10 columns):\n",
            " #   Column                        Non-Null Count  Dtype         \n",
            "---  ------                        --------------  -----         \n",
            " 0   tipo_ativo                    102 non-null    object        \n",
            " 1   data_aprovacao                102 non-null    datetime64[ns]\n",
            " 2   valor_do_provento             102 non-null    float64       \n",
            " 3   proventos_por_unidade_ou_mil  102 non-null    int64         \n",
            " 4   tipo_do_provento              102 non-null    object        \n",
            " 5   ult_dia_com                   102 non-null    datetime64[ns]\n",
            " 6   data_ult_preco_com            102 non-null    datetime64[ns]\n",
            " 7   ult_preco_com                 102 non-null    float64       \n",
            " 8   preco_por_unidade_ou_mil      102 non-null    int64         \n",
            " 9   provento_preco                102 non-null    float64       \n",
            "dtypes: datetime64[ns](3), float64(3), int64(2), object(2)\n",
            "memory usage: 8.1+ KB\n"
          ],
          "name": "stdout"
        }
      ]
    },
    {
      "cell_type": "markdown",
      "metadata": {
        "id": "khnWM4y_hCh4"
      },
      "source": [
        "**É possível verificar que os valores das colunas onde tem data, foram alterados para o formato YYYY-MM-DD**"
      ]
    },
    {
      "cell_type": "code",
      "metadata": {
        "colab": {
          "base_uri": "https://localhost:8080/",
          "height": 131
        },
        "id": "OCXlq5t8EM13",
        "outputId": "d510f322-c953-4c61-b577-3012622bb14d"
      },
      "source": [
        "df.head(2)"
      ],
      "execution_count": 74,
      "outputs": [
        {
          "output_type": "execute_result",
          "data": {
            "text/html": [
              "<div>\n",
              "<style scoped>\n",
              "    .dataframe tbody tr th:only-of-type {\n",
              "        vertical-align: middle;\n",
              "    }\n",
              "\n",
              "    .dataframe tbody tr th {\n",
              "        vertical-align: top;\n",
              "    }\n",
              "\n",
              "    .dataframe thead th {\n",
              "        text-align: right;\n",
              "    }\n",
              "</style>\n",
              "<table border=\"1\" class=\"dataframe\">\n",
              "  <thead>\n",
              "    <tr style=\"text-align: right;\">\n",
              "      <th></th>\n",
              "      <th>tipo_ativo</th>\n",
              "      <th>data_aprovacao</th>\n",
              "      <th>valor_do_provento</th>\n",
              "      <th>proventos_por_unidade_ou_mil</th>\n",
              "      <th>tipo_do_provento</th>\n",
              "      <th>ult_dia_com</th>\n",
              "      <th>data_ult_preco_com</th>\n",
              "      <th>ult_preco_com</th>\n",
              "      <th>preco_por_unidade_ou_mil</th>\n",
              "      <th>provento_preco</th>\n",
              "    </tr>\n",
              "  </thead>\n",
              "  <tbody>\n",
              "    <tr>\n",
              "      <th>0</th>\n",
              "      <td>ON</td>\n",
              "      <td>1996-03-21</td>\n",
              "      <td>0.9882</td>\n",
              "      <td>1000</td>\n",
              "      <td>DIVIDENDO</td>\n",
              "      <td>1996-03-21</td>\n",
              "      <td>1996-03-20</td>\n",
              "      <td>54.0</td>\n",
              "      <td>1000</td>\n",
              "      <td>1.830000</td>\n",
              "    </tr>\n",
              "    <tr>\n",
              "      <th>1</th>\n",
              "      <td>ON</td>\n",
              "      <td>1997-03-21</td>\n",
              "      <td>0.4700</td>\n",
              "      <td>1000</td>\n",
              "      <td>DIVIDENDO</td>\n",
              "      <td>1997-03-21</td>\n",
              "      <td>1997-03-20</td>\n",
              "      <td>169.0</td>\n",
              "      <td>1000</td>\n",
              "      <td>0.278107</td>\n",
              "    </tr>\n",
              "  </tbody>\n",
              "</table>\n",
              "</div>"
            ],
            "text/plain": [
              "  tipo_ativo data_aprovacao  ...  preco_por_unidade_ou_mil  provento_preco\n",
              "0         ON     1996-03-21  ...                      1000        1.830000\n",
              "1         ON     1997-03-21  ...                      1000        0.278107\n",
              "\n",
              "[2 rows x 10 columns]"
            ]
          },
          "metadata": {
            "tags": []
          },
          "execution_count": 74
        }
      ]
    },
    {
      "cell_type": "markdown",
      "metadata": {
        "id": "7N2AaQdhhoDE"
      },
      "source": [
        "**Criação de uma coluna para identificar o nome da empresa**"
      ]
    },
    {
      "cell_type": "code",
      "metadata": {
        "id": "26TPSOiPRuBF"
      },
      "source": [
        "df['nome_empresa'] = 'PETROBRAS'"
      ],
      "execution_count": 75,
      "outputs": []
    },
    {
      "cell_type": "markdown",
      "metadata": {
        "id": "_Nf51HgKhvDv"
      },
      "source": [
        "**Visualização da coluna**"
      ]
    },
    {
      "cell_type": "code",
      "metadata": {
        "colab": {
          "base_uri": "https://localhost:8080/"
        },
        "id": "poLQWM1wSB2Q",
        "outputId": "2d70958d-c700-4ec2-b222-b7a2e8530c74"
      },
      "source": [
        "df.nome_empresa"
      ],
      "execution_count": 76,
      "outputs": [
        {
          "output_type": "execute_result",
          "data": {
            "text/plain": [
              "0      PETROBRAS\n",
              "1      PETROBRAS\n",
              "2      PETROBRAS\n",
              "3      PETROBRAS\n",
              "4      PETROBRAS\n",
              "         ...    \n",
              "97     PETROBRAS\n",
              "98     PETROBRAS\n",
              "99     PETROBRAS\n",
              "100    PETROBRAS\n",
              "101    PETROBRAS\n",
              "Name: nome_empresa, Length: 102, dtype: object"
            ]
          },
          "metadata": {
            "tags": []
          },
          "execution_count": 76
        }
      ]
    },
    {
      "cell_type": "markdown",
      "metadata": {
        "id": "AJWln-ysh1lu"
      },
      "source": [
        "**Criação de uma coluna para identificar o CNPJ da empresa**"
      ]
    },
    {
      "cell_type": "code",
      "metadata": {
        "id": "E0EcrTHTTYtw"
      },
      "source": [
        "df['cnpj'] = '33.000.167/0001-01'"
      ],
      "execution_count": 77,
      "outputs": []
    },
    {
      "cell_type": "markdown",
      "metadata": {
        "id": "eGKIVDDlh-P8"
      },
      "source": [
        "**Visualização da coluna**"
      ]
    },
    {
      "cell_type": "code",
      "metadata": {
        "colab": {
          "base_uri": "https://localhost:8080/"
        },
        "id": "zWgT_N5VUX8R",
        "outputId": "2f2698ea-521d-4525-92c9-c960ffa149be"
      },
      "source": [
        "df.cnpj"
      ],
      "execution_count": 78,
      "outputs": [
        {
          "output_type": "execute_result",
          "data": {
            "text/plain": [
              "0      33.000.167/0001-01\n",
              "1      33.000.167/0001-01\n",
              "2      33.000.167/0001-01\n",
              "3      33.000.167/0001-01\n",
              "4      33.000.167/0001-01\n",
              "              ...        \n",
              "97     33.000.167/0001-01\n",
              "98     33.000.167/0001-01\n",
              "99     33.000.167/0001-01\n",
              "100    33.000.167/0001-01\n",
              "101    33.000.167/0001-01\n",
              "Name: cnpj, Length: 102, dtype: object"
            ]
          },
          "metadata": {
            "tags": []
          },
          "execution_count": 78
        }
      ]
    },
    {
      "cell_type": "markdown",
      "metadata": {
        "id": "N7asT9WriHWG"
      },
      "source": [
        "**Visualização final do DataFrame com os dados tratados**"
      ]
    },
    {
      "cell_type": "code",
      "metadata": {
        "colab": {
          "base_uri": "https://localhost:8080/",
          "height": 309
        },
        "id": "oHt0kNb3TLxL",
        "outputId": "9f7be8e2-1940-4b09-f5bc-5589cbe58689"
      },
      "source": [
        "df.head()"
      ],
      "execution_count": 82,
      "outputs": [
        {
          "output_type": "execute_result",
          "data": {
            "text/html": [
              "<div>\n",
              "<style scoped>\n",
              "    .dataframe tbody tr th:only-of-type {\n",
              "        vertical-align: middle;\n",
              "    }\n",
              "\n",
              "    .dataframe tbody tr th {\n",
              "        vertical-align: top;\n",
              "    }\n",
              "\n",
              "    .dataframe thead th {\n",
              "        text-align: right;\n",
              "    }\n",
              "</style>\n",
              "<table border=\"1\" class=\"dataframe\">\n",
              "  <thead>\n",
              "    <tr style=\"text-align: right;\">\n",
              "      <th></th>\n",
              "      <th>tipo_ativo</th>\n",
              "      <th>data_aprovacao</th>\n",
              "      <th>valor_do_provento</th>\n",
              "      <th>proventos_por_unidade_ou_mil</th>\n",
              "      <th>tipo_do_provento</th>\n",
              "      <th>ult_dia_com</th>\n",
              "      <th>data_ult_preco_com</th>\n",
              "      <th>ult_preco_com</th>\n",
              "      <th>preco_por_unidade_ou_mil</th>\n",
              "      <th>provento_preco</th>\n",
              "      <th>nome_empresa</th>\n",
              "      <th>cnpj</th>\n",
              "    </tr>\n",
              "  </thead>\n",
              "  <tbody>\n",
              "    <tr>\n",
              "      <th>0</th>\n",
              "      <td>ON</td>\n",
              "      <td>1996-03-21</td>\n",
              "      <td>0.988200</td>\n",
              "      <td>1000</td>\n",
              "      <td>DIVIDENDO</td>\n",
              "      <td>1996-03-21</td>\n",
              "      <td>1996-03-20</td>\n",
              "      <td>54.0</td>\n",
              "      <td>1000</td>\n",
              "      <td>1.830000</td>\n",
              "      <td>PETROBRAS</td>\n",
              "      <td>33.000.167/0001-01</td>\n",
              "    </tr>\n",
              "    <tr>\n",
              "      <th>1</th>\n",
              "      <td>ON</td>\n",
              "      <td>1997-03-21</td>\n",
              "      <td>0.470000</td>\n",
              "      <td>1000</td>\n",
              "      <td>DIVIDENDO</td>\n",
              "      <td>1997-03-21</td>\n",
              "      <td>1997-03-20</td>\n",
              "      <td>169.0</td>\n",
              "      <td>1000</td>\n",
              "      <td>0.278107</td>\n",
              "      <td>PETROBRAS</td>\n",
              "      <td>33.000.167/0001-01</td>\n",
              "    </tr>\n",
              "    <tr>\n",
              "      <th>2</th>\n",
              "      <td>ON</td>\n",
              "      <td>1998-03-24</td>\n",
              "      <td>0.600383</td>\n",
              "      <td>1000</td>\n",
              "      <td>DIVIDENDO</td>\n",
              "      <td>1998-03-24</td>\n",
              "      <td>1998-03-24</td>\n",
              "      <td>212.0</td>\n",
              "      <td>1000</td>\n",
              "      <td>0.283200</td>\n",
              "      <td>PETROBRAS</td>\n",
              "      <td>33.000.167/0001-01</td>\n",
              "    </tr>\n",
              "    <tr>\n",
              "      <th>3</th>\n",
              "      <td>ON</td>\n",
              "      <td>1998-03-24</td>\n",
              "      <td>0.059414</td>\n",
              "      <td>1000</td>\n",
              "      <td>DIVIDENDO</td>\n",
              "      <td>1998-03-24</td>\n",
              "      <td>1998-03-24</td>\n",
              "      <td>212.0</td>\n",
              "      <td>1000</td>\n",
              "      <td>0.028025</td>\n",
              "      <td>PETROBRAS</td>\n",
              "      <td>33.000.167/0001-01</td>\n",
              "    </tr>\n",
              "    <tr>\n",
              "      <th>4</th>\n",
              "      <td>ON</td>\n",
              "      <td>1999-03-24</td>\n",
              "      <td>0.107300</td>\n",
              "      <td>1000</td>\n",
              "      <td>DIVIDENDO</td>\n",
              "      <td>1999-03-24</td>\n",
              "      <td>1999-03-24</td>\n",
              "      <td>155.0</td>\n",
              "      <td>1000</td>\n",
              "      <td>0.069226</td>\n",
              "      <td>PETROBRAS</td>\n",
              "      <td>33.000.167/0001-01</td>\n",
              "    </tr>\n",
              "  </tbody>\n",
              "</table>\n",
              "</div>"
            ],
            "text/plain": [
              "  tipo_ativo data_aprovacao  ...  nome_empresa                cnpj\n",
              "0         ON     1996-03-21  ...     PETROBRAS  33.000.167/0001-01\n",
              "1         ON     1997-03-21  ...     PETROBRAS  33.000.167/0001-01\n",
              "2         ON     1998-03-24  ...     PETROBRAS  33.000.167/0001-01\n",
              "3         ON     1998-03-24  ...     PETROBRAS  33.000.167/0001-01\n",
              "4         ON     1999-03-24  ...     PETROBRAS  33.000.167/0001-01\n",
              "\n",
              "[5 rows x 12 columns]"
            ]
          },
          "metadata": {
            "tags": []
          },
          "execution_count": 82
        }
      ]
    },
    {
      "cell_type": "markdown",
      "metadata": {
        "id": "euDNcdvhiTIU"
      },
      "source": [
        "**Enviando os dados para um arquivo JSON**"
      ]
    },
    {
      "cell_type": "code",
      "metadata": {
        "id": "Q9mMyB7SQabw"
      },
      "source": [
        "js = df.to_json(orient = 'records')"
      ],
      "execution_count": 80,
      "outputs": []
    },
    {
      "cell_type": "markdown",
      "metadata": {
        "id": "SbKP8THViZn7"
      },
      "source": [
        "**Visualização do arquivo JSON**"
      ]
    },
    {
      "cell_type": "code",
      "metadata": {
        "colab": {
          "base_uri": "https://localhost:8080/"
        },
        "id": "AwzQ5RgbQcK2",
        "outputId": "7b29415b-f1b1-42da-edf6-4b4502dcff6b"
      },
      "source": [
        "print(js)"
      ],
      "execution_count": 81,
      "outputs": [
        {
          "output_type": "stream",
          "text": [
            "[{\"tipo_ativo\":\"ON\",\"data_aprovacao\":827366400000,\"valor_do_provento\":0.9882,\"proventos_por_unidade_ou_mil\":1000,\"tipo_do_provento\":\"DIVIDENDO\",\"ult_dia_com\":827366400000,\"data_ult_preco_com\":827280000000,\"ult_preco_com\":54.0,\"preco_por_unidade_ou_mil\":1000,\"provento_preco\":1.83,\"nome_empresa\":\"PETROBRAS\",\"cnpj\":\"33.000.167\\/0001-01\"},{\"tipo_ativo\":\"ON\",\"data_aprovacao\":858902400000,\"valor_do_provento\":0.47,\"proventos_por_unidade_ou_mil\":1000,\"tipo_do_provento\":\"DIVIDENDO\",\"ult_dia_com\":858902400000,\"data_ult_preco_com\":858816000000,\"ult_preco_com\":169.0,\"preco_por_unidade_ou_mil\":1000,\"provento_preco\":0.278107,\"nome_empresa\":\"PETROBRAS\",\"cnpj\":\"33.000.167\\/0001-01\"},{\"tipo_ativo\":\"ON\",\"data_aprovacao\":890697600000,\"valor_do_provento\":0.6003833,\"proventos_por_unidade_ou_mil\":1000,\"tipo_do_provento\":\"DIVIDENDO\",\"ult_dia_com\":890697600000,\"data_ult_preco_com\":890697600000,\"ult_preco_com\":212.0,\"preco_por_unidade_ou_mil\":1000,\"provento_preco\":0.2832,\"nome_empresa\":\"PETROBRAS\",\"cnpj\":\"33.000.167\\/0001-01\"},{\"tipo_ativo\":\"ON\",\"data_aprovacao\":890697600000,\"valor_do_provento\":0.05941386,\"proventos_por_unidade_ou_mil\":1000,\"tipo_do_provento\":\"DIVIDENDO\",\"ult_dia_com\":890697600000,\"data_ult_preco_com\":890697600000,\"ult_preco_com\":212.0,\"preco_por_unidade_ou_mil\":1000,\"provento_preco\":0.028025,\"nome_empresa\":\"PETROBRAS\",\"cnpj\":\"33.000.167\\/0001-01\"},{\"tipo_ativo\":\"ON\",\"data_aprovacao\":922233600000,\"valor_do_provento\":0.1073,\"proventos_por_unidade_ou_mil\":1000,\"tipo_do_provento\":\"DIVIDENDO\",\"ult_dia_com\":922233600000,\"data_ult_preco_com\":922233600000,\"ult_preco_com\":155.0,\"preco_por_unidade_ou_mil\":1000,\"provento_preco\":0.069226,\"nome_empresa\":\"PETROBRAS\",\"cnpj\":\"33.000.167\\/0001-01\"},{\"tipo_ativo\":\"ON\",\"data_aprovacao\":953769600000,\"valor_do_provento\":3.58,\"proventos_por_unidade_ou_mil\":1000,\"tipo_do_provento\":\"DIVIDENDO\",\"ult_dia_com\":953769600000,\"data_ult_preco_com\":953769600000,\"ult_preco_com\":430.0,\"preco_por_unidade_ou_mil\":1000,\"provento_preco\":0.832558,\"nome_empresa\":\"PETROBRAS\",\"cnpj\":\"33.000.167\\/0001-01\"},{\"tipo_ativo\":\"ON\",\"data_aprovacao\":953769600000,\"valor_do_provento\":4.27,\"proventos_por_unidade_ou_mil\":1000,\"tipo_do_provento\":\"JRS CAP PROPRIO\",\"ult_dia_com\":953769600000,\"data_ult_preco_com\":953769600000,\"ult_preco_com\":430.0,\"preco_por_unidade_ou_mil\":1000,\"provento_preco\":0.993023,\"nome_empresa\":\"PETROBRAS\",\"cnpj\":\"33.000.167\\/0001-01\"},{\"tipo_ativo\":\"ON\",\"data_aprovacao\":985305600000,\"valor_do_provento\":1.67,\"proventos_por_unidade_ou_mil\":1,\"tipo_do_provento\":\"JRS CAP PROPRIO\",\"ult_dia_com\":985305600000,\"data_ult_preco_com\":985305600000,\"ult_preco_com\":52.39,\"preco_por_unidade_ou_mil\":1,\"provento_preco\":3.187631,\"nome_empresa\":\"PETROBRAS\",\"cnpj\":\"33.000.167\\/0001-01\"},{\"tipo_ativo\":\"ON\",\"data_aprovacao\":985305600000,\"valor_do_provento\":0.07,\"proventos_por_unidade_ou_mil\":1,\"tipo_do_provento\":\"RENDIMENTO\",\"ult_dia_com\":985305600000,\"data_ult_preco_com\":985305600000,\"ult_preco_com\":52.39,\"preco_por_unidade_ou_mil\":1,\"provento_preco\":0.133613,\"nome_empresa\":\"PETROBRAS\",\"cnpj\":\"33.000.167\\/0001-01\"},{\"tipo_ativo\":\"ON\",\"data_aprovacao\":984009600000,\"valor_do_provento\":0.03,\"proventos_por_unidade_ou_mil\":1,\"tipo_do_provento\":\"DIVIDENDO\",\"ult_dia_com\":984009600000,\"data_ult_preco_com\":984009600000,\"ult_preco_com\":58.0,\"preco_por_unidade_ou_mil\":1,\"provento_preco\":0.051724,\"nome_empresa\":\"PETROBRAS\",\"cnpj\":\"33.000.167\\/0001-01\"},{\"tipo_ativo\":\"ON\",\"data_aprovacao\":1016755200000,\"valor_do_provento\":1.3,\"proventos_por_unidade_ou_mil\":1,\"tipo_do_provento\":\"DIVIDENDO\",\"ult_dia_com\":1016755200000,\"data_ult_preco_com\":1016755200000,\"ult_preco_com\":60.9,\"preco_por_unidade_ou_mil\":1,\"provento_preco\":2.134647,\"nome_empresa\":\"PETROBRAS\",\"cnpj\":\"33.000.167\\/0001-01\"},{\"tipo_ativo\":\"ON\",\"data_aprovacao\":1036022400000,\"valor_do_provento\":1.0,\"proventos_por_unidade_ou_mil\":1,\"tipo_do_provento\":\"JRS CAP PROPRIO\",\"ult_dia_com\":1039564800000,\"data_ult_preco_com\":1039564800000,\"ult_preco_com\":47.0,\"preco_por_unidade_ou_mil\":1,\"provento_preco\":2.12766,\"nome_empresa\":\"PETROBRAS\",\"cnpj\":\"33.000.167\\/0001-01\"},{\"tipo_ativo\":\"ON\",\"data_aprovacao\":1048723200000,\"valor_do_provento\":0.06,\"proventos_por_unidade_ou_mil\":1,\"tipo_do_provento\":\"RENDIMENTO\",\"ult_dia_com\":1048723200000,\"data_ult_preco_com\":1048723200000,\"ult_preco_com\":51.8,\"preco_por_unidade_ou_mil\":1,\"provento_preco\":0.11583,\"nome_empresa\":\"PETROBRAS\",\"cnpj\":\"33.000.167\\/0001-01\"},{\"tipo_ativo\":\"ON\",\"data_aprovacao\":1048723200000,\"valor_do_provento\":0.03,\"proventos_por_unidade_ou_mil\":1,\"tipo_do_provento\":\"RENDIMENTO\",\"ult_dia_com\":1048723200000,\"data_ult_preco_com\":1048723200000,\"ult_preco_com\":51.8,\"preco_por_unidade_ou_mil\":1,\"provento_preco\":0.057915,\"nome_empresa\":\"PETROBRAS\",\"cnpj\":\"33.000.167\\/0001-01\"},{\"tipo_ativo\":\"ON\",\"data_aprovacao\":1068681600000,\"valor_do_provento\":0.01,\"proventos_por_unidade_ou_mil\":1,\"tipo_do_provento\":\"RENDIMENTO\",\"ult_dia_com\":1069718400000,\"data_ult_preco_com\":1069718400000,\"ult_preco_com\":73.85,\"preco_por_unidade_ou_mil\":1,\"provento_preco\":0.013541,\"nome_empresa\":\"PETROBRAS\",\"cnpj\":\"33.000.167\\/0001-01\"},{\"tipo_ativo\":\"ON\",\"data_aprovacao\":1080518400000,\"valor_do_provento\":0.04,\"proventos_por_unidade_ou_mil\":1,\"tipo_do_provento\":\"RENDIMENTO\",\"ult_dia_com\":1080518400000,\"data_ult_preco_com\":1080518400000,\"ult_preco_com\":92.55,\"preco_por_unidade_ou_mil\":1,\"provento_preco\":0.04322,\"nome_empresa\":\"PETROBRAS\",\"cnpj\":\"33.000.167\\/0001-01\"},{\"tipo_ativo\":\"ON\",\"data_aprovacao\":1080518400000,\"valor_do_provento\":0.04,\"proventos_por_unidade_ou_mil\":1,\"tipo_do_provento\":\"RENDIMENTO\",\"ult_dia_com\":1080518400000,\"data_ult_preco_com\":1080518400000,\"ult_preco_com\":92.55,\"preco_por_unidade_ou_mil\":1,\"provento_preco\":0.04322,\"nome_empresa\":\"PETROBRAS\",\"cnpj\":\"33.000.167\\/0001-01\"},{\"tipo_ativo\":\"ON\",\"data_aprovacao\":1095379200000,\"valor_do_provento\":0.01,\"proventos_por_unidade_ou_mil\":1,\"tipo_do_provento\":\"RENDIMENTO\",\"ult_dia_com\":1096502400000,\"data_ult_preco_com\":1096502400000,\"ult_preco_com\":103.7,\"preco_por_unidade_ou_mil\":1,\"provento_preco\":0.009643,\"nome_empresa\":\"PETROBRAS\",\"cnpj\":\"33.000.167\\/0001-01\"},{\"tipo_ativo\":\"ON\",\"data_aprovacao\":1112227200000,\"valor_do_provento\":1.0,\"proventos_por_unidade_ou_mil\":1,\"tipo_do_provento\":\"JRS CAP PROPRIO\",\"ult_dia_com\":1112227200000,\"data_ult_preco_com\":1112227200000,\"ult_preco_com\":117.5,\"preco_por_unidade_ou_mil\":1,\"provento_preco\":0.851064,\"nome_empresa\":\"PETROBRAS\",\"cnpj\":\"33.000.167\\/0001-01\"},{\"tipo_ativo\":\"ON\",\"data_aprovacao\":1118966400000,\"valor_do_provento\":2.0,\"proventos_por_unidade_ou_mil\":1,\"tipo_do_provento\":\"JRS CAP PROPRIO\",\"ult_dia_com\":1120089600000,\"data_ult_preco_com\":1120089600000,\"ult_preco_com\":121.31,\"preco_por_unidade_ou_mil\":1,\"provento_preco\":1.648669,\"nome_empresa\":\"PETROBRAS\",\"cnpj\":\"33.000.167\\/0001-01\"},{\"tipo_ativo\":\"ON\",\"data_aprovacao\":1134691200000,\"valor_do_provento\":0.4999999999,\"proventos_por_unidade_ou_mil\":1,\"tipo_do_provento\":\"JRS CAP PROPRIO\",\"ult_dia_com\":1135814400000,\"data_ult_preco_com\":1135814400000,\"ult_preco_com\":41.3,\"preco_por_unidade_ou_mil\":1,\"provento_preco\":1.210654,\"nome_empresa\":\"PETROBRAS\",\"cnpj\":\"33.000.167\\/0001-01\"},{\"tipo_ativo\":\"ON\",\"data_aprovacao\":1141430400000,\"valor_do_provento\":0.25,\"proventos_por_unidade_ou_mil\":1,\"tipo_do_provento\":\"JRS CAP PROPRIO\",\"ult_dia_com\":1141430400000,\"data_ult_preco_com\":1141430400000,\"ult_preco_com\":48.21,\"preco_por_unidade_ou_mil\":1,\"provento_preco\":0.518565,\"nome_empresa\":\"PETROBRAS\",\"cnpj\":\"33.000.167\\/0001-01\"},{\"tipo_ativo\":\"ON\",\"data_aprovacao\":1141430400000,\"valor_do_provento\":0.0247,\"proventos_por_unidade_ou_mil\":1,\"tipo_do_provento\":\"RENDIMENTO\",\"ult_dia_com\":1141430400000,\"data_ult_preco_com\":1141430400000,\"ult_preco_com\":48.21,\"preco_por_unidade_ou_mil\":1,\"provento_preco\":0.051234,\"nome_empresa\":\"PETROBRAS\",\"cnpj\":\"33.000.167\\/0001-01\"},{\"tipo_ativo\":\"ON\",\"data_aprovacao\":1166140800000,\"valor_do_provento\":0.45,\"proventos_por_unidade_ou_mil\":1,\"tipo_do_provento\":\"JRS CAP PROPRIO\",\"ult_dia_com\":1167264000000,\"data_ult_preco_com\":1167264000000,\"ult_preco_com\":54.49,\"preco_por_unidade_ou_mil\":1,\"provento_preco\":0.82584,\"nome_empresa\":\"PETROBRAS\",\"cnpj\":\"33.000.167\\/0001-01\"},{\"tipo_ativo\":\"ON\",\"data_aprovacao\":1170547200000,\"valor_do_provento\":0.35,\"proventos_por_unidade_ou_mil\":1,\"tipo_do_provento\":\"DIVIDENDO\",\"ult_dia_com\":1170547200000,\"data_ult_preco_com\":1170547200000,\"ult_preco_com\":51.45,\"preco_por_unidade_ou_mil\":1,\"provento_preco\":0.680272,\"nome_empresa\":\"PETROBRAS\",\"cnpj\":\"33.000.167\\/0001-01\"},{\"tipo_ativo\":\"ON\",\"data_aprovacao\":1185321600000,\"valor_do_provento\":0.5,\"proventos_por_unidade_ou_mil\":1,\"tipo_do_provento\":\"JRS CAP PROPRIO\",\"ult_dia_com\":1187308800000,\"data_ult_preco_com\":1187308800000,\"ult_preco_com\":54.26,\"preco_por_unidade_ou_mil\":1,\"provento_preco\":0.921489,\"nome_empresa\":\"PETROBRAS\",\"cnpj\":\"33.000.167\\/0001-01\"},{\"tipo_ativo\":\"ON\",\"data_aprovacao\":1198713600000,\"valor_do_provento\":0.3,\"proventos_por_unidade_ou_mil\":1,\"tipo_do_provento\":\"JRS CAP PROPRIO\",\"ult_dia_com\":1225497600000,\"data_ult_preco_com\":1225497600000,\"ult_preco_com\":97.0,\"preco_por_unidade_ou_mil\":1,\"provento_preco\":0.309278,\"nome_empresa\":\"PETROBRAS\",\"cnpj\":\"33.000.167\\/0001-01\"},{\"tipo_ativo\":\"ON\",\"data_aprovacao\":1207267200000,\"valor_do_provento\":0.15,\"proventos_por_unidade_ou_mil\":1,\"tipo_do_provento\":\"JRS CAP PROPRIO\",\"ult_dia_com\":1207267200000,\"data_ult_preco_com\":1207267200000,\"ult_preco_com\":94.88,\"preco_por_unidade_ou_mil\":1,\"provento_preco\":0.158094,\"nome_empresa\":\"PETROBRAS\",\"cnpj\":\"33.000.167\\/0001-01\"},{\"tipo_ativo\":\"ON\",\"data_aprovacao\":1207267200000,\"valor_do_provento\":0.05,\"proventos_por_unidade_ou_mil\":1,\"tipo_do_provento\":\"DIVIDENDO\",\"ult_dia_com\":1207267200000,\"data_ult_preco_com\":1207267200000,\"ult_preco_com\":94.88,\"preco_por_unidade_ou_mil\":1,\"provento_preco\":0.052698,\"nome_empresa\":\"PETROBRAS\",\"cnpj\":\"33.000.167\\/0001-01\"},{\"tipo_ativo\":\"ON\",\"data_aprovacao\":1229644800000,\"valor_do_provento\":0.8,\"proventos_por_unidade_ou_mil\":1,\"tipo_do_provento\":\"JRS CAP PROPRIO\",\"ult_dia_com\":1230249600000,\"data_ult_preco_com\":1230249600000,\"ult_preco_com\":26.85,\"preco_por_unidade_ou_mil\":1,\"provento_preco\":2.979516,\"nome_empresa\":\"PETROBRAS\",\"cnpj\":\"33.000.167\\/0001-01\"},{\"tipo_ativo\":\"ON\",\"data_aprovacao\":1249344000000,\"valor_do_provento\":0.0104,\"proventos_por_unidade_ou_mil\":1,\"tipo_do_provento\":\"RENDIMENTO\",\"ult_dia_com\":1249344000000,\"data_ult_preco_com\":1249344000000,\"ult_preco_com\":37.6,\"preco_por_unidade_ou_mil\":1,\"provento_preco\":0.02766,\"nome_empresa\":\"PETROBRAS\",\"cnpj\":\"33.000.167\\/0001-01\"},{\"tipo_ativo\":\"ON\",\"data_aprovacao\":1253491200000,\"valor_do_provento\":0.2,\"proventos_por_unidade_ou_mil\":1,\"tipo_do_provento\":\"JRS CAP PROPRIO\",\"ult_dia_com\":1254268800000,\"data_ult_preco_com\":1254268800000,\"ult_preco_com\":40.85,\"preco_por_unidade_ou_mil\":1,\"provento_preco\":0.489596,\"nome_empresa\":\"PETROBRAS\",\"cnpj\":\"33.000.167\\/0001-01\"},{\"tipo_ativo\":\"ON\",\"data_aprovacao\":1271894400000,\"valor_do_provento\":0.13,\"proventos_por_unidade_ou_mil\":1,\"tipo_do_provento\":\"DIVIDENDO\",\"ult_dia_com\":1271894400000,\"data_ult_preco_com\":1271894400000,\"ult_preco_com\":38.1,\"preco_por_unidade_ou_mil\":1,\"provento_preco\":0.341207,\"nome_empresa\":\"PETROBRAS\",\"cnpj\":\"33.000.167\\/0001-01\"},{\"tipo_ativo\":\"ON\",\"data_aprovacao\":1271894400000,\"valor_do_provento\":0.1172,\"proventos_por_unidade_ou_mil\":1,\"tipo_do_provento\":\"JRS CAP PROPRIO\",\"ult_dia_com\":1271894400000,\"data_ult_preco_com\":1271894400000,\"ult_preco_com\":38.1,\"preco_por_unidade_ou_mil\":1,\"provento_preco\":0.307612,\"nome_empresa\":\"PETROBRAS\",\"cnpj\":\"33.000.167\\/0001-01\"},{\"tipo_ativo\":\"ON\",\"data_aprovacao\":1273795200000,\"valor_do_provento\":0.2,\"proventos_por_unidade_ou_mil\":1,\"tipo_do_provento\":\"JRS CAP PROPRIO\",\"ult_dia_com\":1274400000000,\"data_ult_preco_com\":1274400000000,\"ult_preco_com\":31.44,\"preco_por_unidade_ou_mil\":1,\"provento_preco\":0.636132,\"nome_empresa\":\"PETROBRAS\",\"cnpj\":\"33.000.167\\/0001-01\"},{\"tipo_ativo\":\"ON\",\"data_aprovacao\":1287705600000,\"valor_do_provento\":0.14,\"proventos_por_unidade_ou_mil\":1,\"tipo_do_provento\":\"JRS CAP PROPRIO\",\"ult_dia_com\":1263168000000,\"data_ult_preco_com\":1263168000000,\"ult_preco_com\":29.1,\"preco_por_unidade_ou_mil\":1,\"provento_preco\":0.4811,\"nome_empresa\":\"PETROBRAS\",\"cnpj\":\"33.000.167\\/0001-01\"},{\"tipo_ativo\":\"ON\",\"data_aprovacao\":1300665600000,\"valor_do_provento\":0.1493,\"proventos_por_unidade_ou_mil\":1,\"tipo_do_provento\":\"JRS CAP PROPRIO\",\"ult_dia_com\":1300665600000,\"data_ult_preco_com\":1300665600000,\"ult_preco_com\":32.25,\"preco_por_unidade_ou_mil\":1,\"provento_preco\":0.462946,\"nome_empresa\":\"PETROBRAS\",\"cnpj\":\"33.000.167\\/0001-01\"},{\"tipo_ativo\":\"ON\",\"data_aprovacao\":1303948800000,\"valor_do_provento\":0.12,\"proventos_por_unidade_ou_mil\":1,\"tipo_do_provento\":\"DIVIDENDO\",\"ult_dia_com\":1303948800000,\"data_ult_preco_com\":1303948800000,\"ult_preco_com\":28.75,\"preco_por_unidade_ou_mil\":1,\"provento_preco\":0.417391,\"nome_empresa\":\"PETROBRAS\",\"cnpj\":\"33.000.167\\/0001-01\"},{\"tipo_ativo\":\"ON\",\"data_aprovacao\":1304035200000,\"valor_do_provento\":0.2,\"proventos_por_unidade_ou_mil\":1,\"tipo_do_provento\":\"JRS CAP PROPRIO\",\"ult_dia_com\":1320451200000,\"data_ult_preco_com\":1320451200000,\"ult_preco_com\":27.21,\"preco_por_unidade_ou_mil\":1,\"provento_preco\":0.735024,\"nome_empresa\":\"PETROBRAS\",\"cnpj\":\"33.000.167\\/0001-01\"},{\"tipo_ativo\":\"ON\",\"data_aprovacao\":1319760000000,\"valor_do_provento\":0.2,\"proventos_por_unidade_ou_mil\":1,\"tipo_do_provento\":\"JRS CAP PROPRIO\",\"ult_dia_com\":1320969600000,\"data_ult_preco_com\":1320969600000,\"ult_preco_com\":23.85,\"preco_por_unidade_ou_mil\":1,\"provento_preco\":0.838574,\"nome_empresa\":\"PETROBRAS\",\"cnpj\":\"33.000.167\\/0001-01\"},{\"tipo_ativo\":\"ON\",\"data_aprovacao\":1332115200000,\"valor_do_provento\":0.12,\"proventos_por_unidade_ou_mil\":1,\"tipo_do_provento\":\"DIVIDENDO\",\"ult_dia_com\":1332115200000,\"data_ult_preco_com\":1332115200000,\"ult_preco_com\":25.25,\"preco_por_unidade_ou_mil\":1,\"provento_preco\":0.475248,\"nome_empresa\":\"PETROBRAS\",\"cnpj\":\"33.000.167\\/0001-01\"},{\"tipo_ativo\":\"ON\",\"data_aprovacao\":1335484800000,\"valor_do_provento\":0.2,\"proventos_por_unidade_ou_mil\":1,\"tipo_do_provento\":\"JRS CAP PROPRIO\",\"ult_dia_com\":1352073600000,\"data_ult_preco_com\":1352073600000,\"ult_preco_com\":20.39,\"preco_por_unidade_ou_mil\":1,\"provento_preco\":0.980873,\"nome_empresa\":\"PETROBRAS\",\"cnpj\":\"33.000.167\\/0001-01\"},{\"tipo_ativo\":\"ON\",\"data_aprovacao\":1367193600000,\"valor_do_provento\":0.003034,\"proventos_por_unidade_ou_mil\":1,\"tipo_do_provento\":\"RENDIMENTO\",\"ult_dia_com\":1367193600000,\"data_ult_preco_com\":1367193600000,\"ult_preco_com\":19.16,\"preco_por_unidade_ou_mil\":1,\"provento_preco\":0.015835,\"nome_empresa\":\"PETROBRAS\",\"cnpj\":\"33.000.167\\/0001-01\"},{\"tipo_ativo\":\"ON\",\"data_aprovacao\":1367193600000,\"valor_do_provento\":0.00653,\"proventos_por_unidade_ou_mil\":1,\"tipo_do_provento\":\"RENDIMENTO\",\"ult_dia_com\":1367193600000,\"data_ult_preco_com\":1367193600000,\"ult_preco_com\":19.16,\"preco_por_unidade_ou_mil\":1,\"provento_preco\":0.034081,\"nome_empresa\":\"PETROBRAS\",\"cnpj\":\"33.000.167\\/0001-01\"},{\"tipo_ativo\":\"ON\",\"data_aprovacao\":1391472000000,\"valor_do_provento\":0.01638,\"proventos_por_unidade_ou_mil\":1,\"tipo_do_provento\":\"RENDIMENTO\",\"ult_dia_com\":1391472000000,\"data_ult_preco_com\":1391472000000,\"ult_preco_com\":15.66,\"preco_por_unidade_ou_mil\":1,\"provento_preco\":0.104598,\"nome_empresa\":\"PETROBRAS\",\"cnpj\":\"33.000.167\\/0001-01\"},{\"tipo_ativo\":\"ON\",\"data_aprovacao\":1518048000000,\"valor_do_provento\":0.05,\"proventos_por_unidade_ou_mil\":1,\"tipo_do_provento\":\"JRS CAP PROPRIO\",\"ult_dia_com\":1534118400000,\"data_ult_preco_com\":1534118400000,\"ult_preco_com\":22.4,\"preco_por_unidade_ou_mil\":1,\"provento_preco\":0.223214,\"nome_empresa\":\"PETROBRAS\",\"cnpj\":\"33.000.167\\/0001-01\"},{\"tipo_ativo\":\"ON\",\"data_aprovacao\":1545091200000,\"valor_do_provento\":0.05,\"proventos_por_unidade_ou_mil\":1,\"tipo_do_provento\":\"JRS CAP PROPRIO\",\"ult_dia_com\":1545350400000,\"data_ult_preco_com\":1545350400000,\"ult_preco_com\":24.18,\"preco_por_unidade_ou_mil\":1,\"provento_preco\":0.206782,\"nome_empresa\":\"PETROBRAS\",\"cnpj\":\"33.000.167\\/0001-01\"},{\"tipo_ativo\":\"ON\",\"data_aprovacao\":1546905600000,\"valor_do_provento\":0.2,\"proventos_por_unidade_ou_mil\":1,\"tipo_do_provento\":\"JRS CAP PROPRIO\",\"ult_dia_com\":1575763200000,\"data_ult_preco_com\":1575763200000,\"ult_preco_com\":27.85,\"preco_por_unidade_ou_mil\":1,\"provento_preco\":0.718133,\"nome_empresa\":\"PETROBRAS\",\"cnpj\":\"33.000.167\\/0001-01\"},{\"tipo_ativo\":\"ON\",\"data_aprovacao\":1595376000000,\"valor_do_provento\":0.233649,\"proventos_por_unidade_ou_mil\":1,\"tipo_do_provento\":\"DIVIDENDO\",\"ult_dia_com\":1595376000000,\"data_ult_preco_com\":1595376000000,\"ult_preco_com\":23.74,\"preco_por_unidade_ou_mil\":1,\"provento_preco\":0.9842,\"nome_empresa\":\"PETROBRAS\",\"cnpj\":\"33.000.167\\/0001-01\"},{\"tipo_ativo\":\"ON\",\"data_aprovacao\":1618358400000,\"valor_do_provento\":0.787446,\"proventos_por_unidade_ou_mil\":1,\"tipo_do_provento\":\"DIVIDENDO\",\"ult_dia_com\":1618358400000,\"data_ult_preco_com\":1618358400000,\"ult_preco_com\":24.12,\"preco_por_unidade_ou_mil\":1,\"provento_preco\":3.264701,\"nome_empresa\":\"PETROBRAS\",\"cnpj\":\"33.000.167\\/0001-01\"},{\"tipo_ativo\":\"PN\",\"data_aprovacao\":827366400000,\"valor_do_provento\":5.1471,\"proventos_por_unidade_ou_mil\":1000,\"tipo_do_provento\":\"DIVIDENDO\",\"ult_dia_com\":827366400000,\"data_ult_preco_com\":827280000000,\"ult_preco_com\":114.99,\"preco_por_unidade_ou_mil\":1000,\"provento_preco\":4.476128,\"nome_empresa\":\"PETROBRAS\",\"cnpj\":\"33.000.167\\/0001-01\"},{\"tipo_ativo\":\"PN\",\"data_aprovacao\":858902400000,\"valor_do_provento\":2.0,\"proventos_por_unidade_ou_mil\":1000,\"tipo_do_provento\":\"DIVIDENDO\",\"ult_dia_com\":858902400000,\"data_ult_preco_com\":858816000000,\"ult_preco_com\":221.0,\"preco_por_unidade_ou_mil\":1000,\"provento_preco\":0.904977,\"nome_empresa\":\"PETROBRAS\",\"cnpj\":\"33.000.167\\/0001-01\"},{\"tipo_ativo\":\"PN\",\"data_aprovacao\":890697600000,\"valor_do_provento\":2.07024895,\"proventos_por_unidade_ou_mil\":1000,\"tipo_do_provento\":\"DIVIDENDO\",\"ult_dia_com\":890697600000,\"data_ult_preco_com\":890697600000,\"ult_preco_com\":275.0,\"preco_por_unidade_ou_mil\":1000,\"provento_preco\":0.752818,\"nome_empresa\":\"PETROBRAS\",\"cnpj\":\"33.000.167\\/0001-01\"},{\"tipo_ativo\":\"PN\",\"data_aprovacao\":890697600000,\"valor_do_provento\":0.20487159,\"proventos_por_unidade_ou_mil\":1000,\"tipo_do_provento\":\"DIVIDENDO\",\"ult_dia_com\":890697600000,\"data_ult_preco_com\":890697600000,\"ult_preco_com\":275.0,\"preco_por_unidade_ou_mil\":1000,\"provento_preco\":0.074499,\"nome_empresa\":\"PETROBRAS\",\"cnpj\":\"33.000.167\\/0001-01\"},{\"tipo_ativo\":\"PN\",\"data_aprovacao\":922233600000,\"valor_do_provento\":1.8893,\"proventos_por_unidade_ou_mil\":1000,\"tipo_do_provento\":\"DIVIDENDO\",\"ult_dia_com\":922233600000,\"data_ult_preco_com\":922233600000,\"ult_preco_com\":205.49,\"preco_por_unidade_ou_mil\":1000,\"provento_preco\":0.919412,\"nome_empresa\":\"PETROBRAS\",\"cnpj\":\"33.000.167\\/0001-01\"},{\"tipo_ativo\":\"PN\",\"data_aprovacao\":953769600000,\"valor_do_provento\":3.58,\"proventos_por_unidade_ou_mil\":1000,\"tipo_do_provento\":\"DIVIDENDO\",\"ult_dia_com\":953769600000,\"data_ult_preco_com\":953769600000,\"ult_preco_com\":462.98,\"preco_por_unidade_ou_mil\":1000,\"provento_preco\":0.773252,\"nome_empresa\":\"PETROBRAS\",\"cnpj\":\"33.000.167\\/0001-01\"},{\"tipo_ativo\":\"PN\",\"data_aprovacao\":953769600000,\"valor_do_provento\":4.27,\"proventos_por_unidade_ou_mil\":1000,\"tipo_do_provento\":\"JRS CAP PROPRIO\",\"ult_dia_com\":953769600000,\"data_ult_preco_com\":953769600000,\"ult_preco_com\":462.98,\"preco_por_unidade_ou_mil\":1000,\"provento_preco\":0.922286,\"nome_empresa\":\"PETROBRAS\",\"cnpj\":\"33.000.167\\/0001-01\"},{\"tipo_ativo\":\"PN\",\"data_aprovacao\":985305600000,\"valor_do_provento\":1.67,\"proventos_por_unidade_ou_mil\":1,\"tipo_do_provento\":\"JRS CAP PROPRIO\",\"ult_dia_com\":985305600000,\"data_ult_preco_com\":985305600000,\"ult_preco_com\":48.49,\"preco_por_unidade_ou_mil\":1,\"provento_preco\":3.444009,\"nome_empresa\":\"PETROBRAS\",\"cnpj\":\"33.000.167\\/0001-01\"},{\"tipo_ativo\":\"PN\",\"data_aprovacao\":985305600000,\"valor_do_provento\":0.07,\"proventos_por_unidade_ou_mil\":1,\"tipo_do_provento\":\"RENDIMENTO\",\"ult_dia_com\":985305600000,\"data_ult_preco_com\":985305600000,\"ult_preco_com\":48.49,\"preco_por_unidade_ou_mil\":1,\"provento_preco\":0.14436,\"nome_empresa\":\"PETROBRAS\",\"cnpj\":\"33.000.167\\/0001-01\"},{\"tipo_ativo\":\"PN\",\"data_aprovacao\":984009600000,\"valor_do_provento\":0.03,\"proventos_por_unidade_ou_mil\":1,\"tipo_do_provento\":\"DIVIDENDO\",\"ult_dia_com\":984009600000,\"data_ult_preco_com\":984009600000,\"ult_preco_com\":52.92,\"preco_por_unidade_ou_mil\":1,\"provento_preco\":0.056689,\"nome_empresa\":\"PETROBRAS\",\"cnpj\":\"33.000.167\\/0001-01\"},{\"tipo_ativo\":\"PN\",\"data_aprovacao\":1016755200000,\"valor_do_provento\":1.3,\"proventos_por_unidade_ou_mil\":1,\"tipo_do_provento\":\"DIVIDENDO\",\"ult_dia_com\":1016755200000,\"data_ult_preco_com\":1016755200000,\"ult_preco_com\":58.4,\"preco_por_unidade_ou_mil\":1,\"provento_preco\":2.226027,\"nome_empresa\":\"PETROBRAS\",\"cnpj\":\"33.000.167\\/0001-01\"},{\"tipo_ativo\":\"PN\",\"data_aprovacao\":1036022400000,\"valor_do_provento\":1.0,\"proventos_por_unidade_ou_mil\":1,\"tipo_do_provento\":\"JRS CAP PROPRIO\",\"ult_dia_com\":1039564800000,\"data_ult_preco_com\":1039564800000,\"ult_preco_com\":43.12,\"preco_por_unidade_ou_mil\":1,\"provento_preco\":2.319109,\"nome_empresa\":\"PETROBRAS\",\"cnpj\":\"33.000.167\\/0001-01\"},{\"tipo_ativo\":\"PN\",\"data_aprovacao\":1048723200000,\"valor_do_provento\":0.06,\"proventos_por_unidade_ou_mil\":1,\"tipo_do_provento\":\"RENDIMENTO\",\"ult_dia_com\":1048723200000,\"data_ult_preco_com\":1048723200000,\"ult_preco_com\":47.4,\"preco_por_unidade_ou_mil\":1,\"provento_preco\":0.126582,\"nome_empresa\":\"PETROBRAS\",\"cnpj\":\"33.000.167\\/0001-01\"},{\"tipo_ativo\":\"PN\",\"data_aprovacao\":1048723200000,\"valor_do_provento\":0.03,\"proventos_por_unidade_ou_mil\":1,\"tipo_do_provento\":\"RENDIMENTO\",\"ult_dia_com\":1048723200000,\"data_ult_preco_com\":1048723200000,\"ult_preco_com\":47.4,\"preco_por_unidade_ou_mil\":1,\"provento_preco\":0.063291,\"nome_empresa\":\"PETROBRAS\",\"cnpj\":\"33.000.167\\/0001-01\"},{\"tipo_ativo\":\"PN\",\"data_aprovacao\":1068681600000,\"valor_do_provento\":0.01,\"proventos_por_unidade_ou_mil\":1,\"tipo_do_provento\":\"RENDIMENTO\",\"ult_dia_com\":1069718400000,\"data_ult_preco_com\":1069718400000,\"ult_preco_com\":69.52,\"preco_por_unidade_ou_mil\":1,\"provento_preco\":0.014384,\"nome_empresa\":\"PETROBRAS\",\"cnpj\":\"33.000.167\\/0001-01\"},{\"tipo_ativo\":\"PN\",\"data_aprovacao\":1080518400000,\"valor_do_provento\":0.04,\"proventos_por_unidade_ou_mil\":1,\"tipo_do_provento\":\"RENDIMENTO\",\"ult_dia_com\":1080518400000,\"data_ult_preco_com\":1080518400000,\"ult_preco_com\":82.65,\"preco_por_unidade_ou_mil\":1,\"provento_preco\":0.048397,\"nome_empresa\":\"PETROBRAS\",\"cnpj\":\"33.000.167\\/0001-01\"},{\"tipo_ativo\":\"PN\",\"data_aprovacao\":1080518400000,\"valor_do_provento\":0.04,\"proventos_por_unidade_ou_mil\":1,\"tipo_do_provento\":\"RENDIMENTO\",\"ult_dia_com\":1080518400000,\"data_ult_preco_com\":1080518400000,\"ult_preco_com\":82.65,\"preco_por_unidade_ou_mil\":1,\"provento_preco\":0.048397,\"nome_empresa\":\"PETROBRAS\",\"cnpj\":\"33.000.167\\/0001-01\"},{\"tipo_ativo\":\"PN\",\"data_aprovacao\":1095379200000,\"valor_do_provento\":0.01,\"proventos_por_unidade_ou_mil\":1,\"tipo_do_provento\":\"RENDIMENTO\",\"ult_dia_com\":1096502400000,\"data_ult_preco_com\":1096502400000,\"ult_preco_com\":93.84,\"preco_por_unidade_ou_mil\":1,\"provento_preco\":0.010656,\"nome_empresa\":\"PETROBRAS\",\"cnpj\":\"33.000.167\\/0001-01\"},{\"tipo_ativo\":\"PN\",\"data_aprovacao\":1112227200000,\"valor_do_provento\":1.0,\"proventos_por_unidade_ou_mil\":1,\"tipo_do_provento\":\"JRS CAP PROPRIO\",\"ult_dia_com\":1112227200000,\"data_ult_preco_com\":1112227200000,\"ult_preco_com\":103.15,\"preco_por_unidade_ou_mil\":1,\"provento_preco\":0.969462,\"nome_empresa\":\"PETROBRAS\",\"cnpj\":\"33.000.167\\/0001-01\"},{\"tipo_ativo\":\"PN\",\"data_aprovacao\":1118966400000,\"valor_do_provento\":2.0,\"proventos_por_unidade_ou_mil\":1,\"tipo_do_provento\":\"JRS CAP PROPRIO\",\"ult_dia_com\":1120089600000,\"data_ult_preco_com\":1120089600000,\"ult_preco_com\":107.3,\"preco_por_unidade_ou_mil\":1,\"provento_preco\":1.863933,\"nome_empresa\":\"PETROBRAS\",\"cnpj\":\"33.000.167\\/0001-01\"},{\"tipo_ativo\":\"PN\",\"data_aprovacao\":1134691200000,\"valor_do_provento\":0.4999999999,\"proventos_por_unidade_ou_mil\":1,\"tipo_do_provento\":\"JRS CAP PROPRIO\",\"ult_dia_com\":1135814400000,\"data_ult_preco_com\":1135814400000,\"ult_preco_com\":37.21,\"preco_por_unidade_ou_mil\":1,\"provento_preco\":1.343725,\"nome_empresa\":\"PETROBRAS\",\"cnpj\":\"33.000.167\\/0001-01\"},{\"tipo_ativo\":\"PN\",\"data_aprovacao\":1141430400000,\"valor_do_provento\":0.25,\"proventos_por_unidade_ou_mil\":1,\"tipo_do_provento\":\"JRS CAP PROPRIO\",\"ult_dia_com\":1141430400000,\"data_ult_preco_com\":1141430400000,\"ult_preco_com\":44.25,\"preco_por_unidade_ou_mil\":1,\"provento_preco\":0.564972,\"nome_empresa\":\"PETROBRAS\",\"cnpj\":\"33.000.167\\/0001-01\"},{\"tipo_ativo\":\"PN\",\"data_aprovacao\":1141430400000,\"valor_do_provento\":0.0247,\"proventos_por_unidade_ou_mil\":1,\"tipo_do_provento\":\"RENDIMENTO\",\"ult_dia_com\":1141430400000,\"data_ult_preco_com\":1141430400000,\"ult_preco_com\":44.25,\"preco_por_unidade_ou_mil\":1,\"provento_preco\":0.055819,\"nome_empresa\":\"PETROBRAS\",\"cnpj\":\"33.000.167\\/0001-01\"},{\"tipo_ativo\":\"PN\",\"data_aprovacao\":1166140800000,\"valor_do_provento\":0.45,\"proventos_por_unidade_ou_mil\":1,\"tipo_do_provento\":\"JRS CAP PROPRIO\",\"ult_dia_com\":1167264000000,\"data_ult_preco_com\":1167264000000,\"ult_preco_com\":49.8,\"preco_por_unidade_ou_mil\":1,\"provento_preco\":0.903614,\"nome_empresa\":\"PETROBRAS\",\"cnpj\":\"33.000.167\\/0001-01\"},{\"tipo_ativo\":\"PN\",\"data_aprovacao\":1170547200000,\"valor_do_provento\":0.35,\"proventos_por_unidade_ou_mil\":1,\"tipo_do_provento\":\"DIVIDENDO\",\"ult_dia_com\":1170547200000,\"data_ult_preco_com\":1170547200000,\"ult_preco_com\":46.02,\"preco_por_unidade_ou_mil\":1,\"provento_preco\":0.760539,\"nome_empresa\":\"PETROBRAS\",\"cnpj\":\"33.000.167\\/0001-01\"},{\"tipo_ativo\":\"PN\",\"data_aprovacao\":1185321600000,\"valor_do_provento\":0.5,\"proventos_por_unidade_ou_mil\":1,\"tipo_do_provento\":\"JRS CAP PROPRIO\",\"ult_dia_com\":1187308800000,\"data_ult_preco_com\":1187308800000,\"ult_preco_com\":46.4,\"preco_por_unidade_ou_mil\":1,\"provento_preco\":1.077586,\"nome_empresa\":\"PETROBRAS\",\"cnpj\":\"33.000.167\\/0001-01\"},{\"tipo_ativo\":\"PN\",\"data_aprovacao\":1198713600000,\"valor_do_provento\":0.3,\"proventos_por_unidade_ou_mil\":1,\"tipo_do_provento\":\"JRS CAP PROPRIO\",\"ult_dia_com\":1225497600000,\"data_ult_preco_com\":1225497600000,\"ult_preco_com\":81.56,\"preco_por_unidade_ou_mil\":1,\"provento_preco\":0.367827,\"nome_empresa\":\"PETROBRAS\",\"cnpj\":\"33.000.167\\/0001-01\"},{\"tipo_ativo\":\"PN\",\"data_aprovacao\":1207267200000,\"valor_do_provento\":0.15,\"proventos_por_unidade_ou_mil\":1,\"tipo_do_provento\":\"JRS CAP PROPRIO\",\"ult_dia_com\":1207267200000,\"data_ult_preco_com\":1207267200000,\"ult_preco_com\":79.0,\"preco_por_unidade_ou_mil\":1,\"provento_preco\":0.189873,\"nome_empresa\":\"PETROBRAS\",\"cnpj\":\"33.000.167\\/0001-01\"},{\"tipo_ativo\":\"PN\",\"data_aprovacao\":1207267200000,\"valor_do_provento\":0.05,\"proventos_por_unidade_ou_mil\":1,\"tipo_do_provento\":\"DIVIDENDO\",\"ult_dia_com\":1207267200000,\"data_ult_preco_com\":1207267200000,\"ult_preco_com\":79.0,\"preco_por_unidade_ou_mil\":1,\"provento_preco\":0.063291,\"nome_empresa\":\"PETROBRAS\",\"cnpj\":\"33.000.167\\/0001-01\"},{\"tipo_ativo\":\"PN\",\"data_aprovacao\":1229644800000,\"valor_do_provento\":0.8,\"proventos_por_unidade_ou_mil\":1,\"tipo_do_provento\":\"JRS CAP PROPRIO\",\"ult_dia_com\":1230249600000,\"data_ult_preco_com\":1230249600000,\"ult_preco_com\":22.8,\"preco_por_unidade_ou_mil\":1,\"provento_preco\":3.508772,\"nome_empresa\":\"PETROBRAS\",\"cnpj\":\"33.000.167\\/0001-01\"},{\"tipo_ativo\":\"PN\",\"data_aprovacao\":1249344000000,\"valor_do_provento\":0.0104,\"proventos_por_unidade_ou_mil\":1,\"tipo_do_provento\":\"RENDIMENTO\",\"ult_dia_com\":1249344000000,\"data_ult_preco_com\":1249344000000,\"ult_preco_com\":29.88,\"preco_por_unidade_ou_mil\":1,\"provento_preco\":0.034806,\"nome_empresa\":\"PETROBRAS\",\"cnpj\":\"33.000.167\\/0001-01\"},{\"tipo_ativo\":\"PN\",\"data_aprovacao\":1253491200000,\"valor_do_provento\":0.2,\"proventos_por_unidade_ou_mil\":1,\"tipo_do_provento\":\"JRS CAP PROPRIO\",\"ult_dia_com\":1254268800000,\"data_ult_preco_com\":1254268800000,\"ult_preco_com\":35.0,\"preco_por_unidade_ou_mil\":1,\"provento_preco\":0.571429,\"nome_empresa\":\"PETROBRAS\",\"cnpj\":\"33.000.167\\/0001-01\"},{\"tipo_ativo\":\"PN\",\"data_aprovacao\":1271894400000,\"valor_do_provento\":0.13,\"proventos_por_unidade_ou_mil\":1,\"tipo_do_provento\":\"DIVIDENDO\",\"ult_dia_com\":1271894400000,\"data_ult_preco_com\":1271894400000,\"ult_preco_com\":33.86,\"preco_por_unidade_ou_mil\":1,\"provento_preco\":0.383934,\"nome_empresa\":\"PETROBRAS\",\"cnpj\":\"33.000.167\\/0001-01\"},{\"tipo_ativo\":\"PN\",\"data_aprovacao\":1271894400000,\"valor_do_provento\":0.1172,\"proventos_por_unidade_ou_mil\":1,\"tipo_do_provento\":\"JRS CAP PROPRIO\",\"ult_dia_com\":1271894400000,\"data_ult_preco_com\":1271894400000,\"ult_preco_com\":33.86,\"preco_por_unidade_ou_mil\":1,\"provento_preco\":0.346131,\"nome_empresa\":\"PETROBRAS\",\"cnpj\":\"33.000.167\\/0001-01\"},{\"tipo_ativo\":\"PN\",\"data_aprovacao\":1273795200000,\"valor_do_provento\":0.2,\"proventos_por_unidade_ou_mil\":1,\"tipo_do_provento\":\"JRS CAP PROPRIO\",\"ult_dia_com\":1274400000000,\"data_ult_preco_com\":1274400000000,\"ult_preco_com\":27.58,\"preco_por_unidade_ou_mil\":1,\"provento_preco\":0.725163,\"nome_empresa\":\"PETROBRAS\",\"cnpj\":\"33.000.167\\/0001-01\"},{\"tipo_ativo\":\"PN\",\"data_aprovacao\":1287705600000,\"valor_do_provento\":0.14,\"proventos_por_unidade_ou_mil\":1,\"tipo_do_provento\":\"JRS CAP PROPRIO\",\"ult_dia_com\":1263168000000,\"data_ult_preco_com\":1263168000000,\"ult_preco_com\":26.49,\"preco_por_unidade_ou_mil\":1,\"provento_preco\":0.528501,\"nome_empresa\":\"PETROBRAS\",\"cnpj\":\"33.000.167\\/0001-01\"},{\"tipo_ativo\":\"PN\",\"data_aprovacao\":1300665600000,\"valor_do_provento\":0.1493,\"proventos_por_unidade_ou_mil\":1,\"tipo_do_provento\":\"JRS CAP PROPRIO\",\"ult_dia_com\":1300665600000,\"data_ult_preco_com\":1300665600000,\"ult_preco_com\":28.13,\"preco_por_unidade_ou_mil\":1,\"provento_preco\":0.53075,\"nome_empresa\":\"PETROBRAS\",\"cnpj\":\"33.000.167\\/0001-01\"},{\"tipo_ativo\":\"PN\",\"data_aprovacao\":1303948800000,\"valor_do_provento\":0.12,\"proventos_por_unidade_ou_mil\":1,\"tipo_do_provento\":\"DIVIDENDO\",\"ult_dia_com\":1303948800000,\"data_ult_preco_com\":1303948800000,\"ult_preco_com\":25.45,\"preco_por_unidade_ou_mil\":1,\"provento_preco\":0.471513,\"nome_empresa\":\"PETROBRAS\",\"cnpj\":\"33.000.167\\/0001-01\"},{\"tipo_ativo\":\"PN\",\"data_aprovacao\":1304035200000,\"valor_do_provento\":0.2,\"proventos_por_unidade_ou_mil\":1,\"tipo_do_provento\":\"JRS CAP PROPRIO\",\"ult_dia_com\":1320451200000,\"data_ult_preco_com\":1320451200000,\"ult_preco_com\":24.01,\"preco_por_unidade_ou_mil\":1,\"provento_preco\":0.832986,\"nome_empresa\":\"PETROBRAS\",\"cnpj\":\"33.000.167\\/0001-01\"},{\"tipo_ativo\":\"PN\",\"data_aprovacao\":1319760000000,\"valor_do_provento\":0.2,\"proventos_por_unidade_ou_mil\":1,\"tipo_do_provento\":\"JRS CAP PROPRIO\",\"ult_dia_com\":1320969600000,\"data_ult_preco_com\":1320969600000,\"ult_preco_com\":21.96,\"preco_por_unidade_ou_mil\":1,\"provento_preco\":0.910747,\"nome_empresa\":\"PETROBRAS\",\"cnpj\":\"33.000.167\\/0001-01\"},{\"tipo_ativo\":\"PN\",\"data_aprovacao\":1332115200000,\"valor_do_provento\":0.12,\"proventos_por_unidade_ou_mil\":1,\"tipo_do_provento\":\"DIVIDENDO\",\"ult_dia_com\":1332115200000,\"data_ult_preco_com\":1332115200000,\"ult_preco_com\":24.51,\"preco_por_unidade_ou_mil\":1,\"provento_preco\":0.489596,\"nome_empresa\":\"PETROBRAS\",\"cnpj\":\"33.000.167\\/0001-01\"},{\"tipo_ativo\":\"PN\",\"data_aprovacao\":1335484800000,\"valor_do_provento\":0.2,\"proventos_por_unidade_ou_mil\":1,\"tipo_do_provento\":\"JRS CAP PROPRIO\",\"ult_dia_com\":1352073600000,\"data_ult_preco_com\":1352073600000,\"ult_preco_com\":19.53,\"preco_por_unidade_ou_mil\":1,\"provento_preco\":1.024066,\"nome_empresa\":\"PETROBRAS\",\"cnpj\":\"33.000.167\\/0001-01\"},{\"tipo_ativo\":\"PN\",\"data_aprovacao\":1367193600000,\"valor_do_provento\":0.00854,\"proventos_por_unidade_ou_mil\":1,\"tipo_do_provento\":\"RENDIMENTO\",\"ult_dia_com\":1367193600000,\"data_ult_preco_com\":1367193600000,\"ult_preco_com\":20.35,\"preco_por_unidade_ou_mil\":1,\"provento_preco\":0.041966,\"nome_empresa\":\"PETROBRAS\",\"cnpj\":\"33.000.167\\/0001-01\"},{\"tipo_ativo\":\"PN\",\"data_aprovacao\":1367193600000,\"valor_do_provento\":0.01877,\"proventos_por_unidade_ou_mil\":1,\"tipo_do_provento\":\"RENDIMENTO\",\"ult_dia_com\":1367193600000,\"data_ult_preco_com\":1367193600000,\"ult_preco_com\":20.35,\"preco_por_unidade_ou_mil\":1,\"provento_preco\":0.092236,\"nome_empresa\":\"PETROBRAS\",\"cnpj\":\"33.000.167\\/0001-01\"},{\"tipo_ativo\":\"PN\",\"data_aprovacao\":1391472000000,\"valor_do_provento\":0.03037,\"proventos_por_unidade_ou_mil\":1,\"tipo_do_provento\":\"RENDIMENTO\",\"ult_dia_com\":1391472000000,\"data_ult_preco_com\":1391472000000,\"ult_preco_com\":16.56,\"preco_por_unidade_ou_mil\":1,\"provento_preco\":0.183394,\"nome_empresa\":\"PETROBRAS\",\"cnpj\":\"33.000.167\\/0001-01\"},{\"tipo_ativo\":\"PN\",\"data_aprovacao\":1518048000000,\"valor_do_provento\":0.05,\"proventos_por_unidade_ou_mil\":1,\"tipo_do_provento\":\"JRS CAP PROPRIO\",\"ult_dia_com\":1534118400000,\"data_ult_preco_com\":1534118400000,\"ult_preco_com\":20.04,\"preco_por_unidade_ou_mil\":1,\"provento_preco\":0.249501,\"nome_empresa\":\"PETROBRAS\",\"cnpj\":\"33.000.167\\/0001-01\"},{\"tipo_ativo\":\"PN\",\"data_aprovacao\":1545091200000,\"valor_do_provento\":0.7,\"proventos_por_unidade_ou_mil\":1,\"tipo_do_provento\":\"JRS CAP PROPRIO\",\"ult_dia_com\":1545350400000,\"data_ult_preco_com\":1545350400000,\"ult_preco_com\":21.55,\"preco_por_unidade_ou_mil\":1,\"provento_preco\":3.24826,\"nome_empresa\":\"PETROBRAS\",\"cnpj\":\"33.000.167\\/0001-01\"},{\"tipo_ativo\":\"PN\",\"data_aprovacao\":1551225600000,\"valor_do_provento\":0.000451,\"proventos_por_unidade_ou_mil\":1,\"tipo_do_provento\":\"RENDIMENTO\",\"ult_dia_com\":1556150400000,\"data_ult_preco_com\":1556150400000,\"ult_preco_com\":27.8,\"preco_por_unidade_ou_mil\":1,\"provento_preco\":0.001622,\"nome_empresa\":\"PETROBRAS\",\"cnpj\":\"33.000.167\\/0001-01\"},{\"tipo_ativo\":\"PN\",\"data_aprovacao\":1546905600000,\"valor_do_provento\":0.2,\"proventos_por_unidade_ou_mil\":1,\"tipo_do_provento\":\"JRS CAP PROPRIO\",\"ult_dia_com\":1575763200000,\"data_ult_preco_com\":1575763200000,\"ult_preco_com\":25.65,\"preco_por_unidade_ou_mil\":1,\"provento_preco\":0.779727,\"nome_empresa\":\"PETROBRAS\",\"cnpj\":\"33.000.167\\/0001-01\"},{\"tipo_ativo\":\"PN\",\"data_aprovacao\":1576627200000,\"valor_do_provento\":0.42,\"proventos_por_unidade_ou_mil\":1,\"tipo_do_provento\":\"JRS CAP PROPRIO\",\"ult_dia_com\":1577318400000,\"data_ult_preco_com\":1577318400000,\"ult_preco_com\":30.91,\"preco_por_unidade_ou_mil\":1,\"provento_preco\":1.358784,\"nome_empresa\":\"PETROBRAS\",\"cnpj\":\"33.000.167\\/0001-01\"},{\"tipo_ativo\":\"PN\",\"data_aprovacao\":1595376000000,\"valor_do_provento\":0.000012,\"proventos_por_unidade_ou_mil\":1,\"tipo_do_provento\":\"RENDIMENTO\",\"ult_dia_com\":1595376000000,\"data_ult_preco_com\":1595376000000,\"ult_preco_com\":23.05,\"preco_por_unidade_ou_mil\":1,\"provento_preco\":0.000052,\"nome_empresa\":\"PETROBRAS\",\"cnpj\":\"33.000.167\\/0001-01\"},{\"tipo_ativo\":\"PN\",\"data_aprovacao\":1618358400000,\"valor_do_provento\":0.005388,\"proventos_por_unidade_ou_mil\":1,\"tipo_do_provento\":\"RENDIMENTO\",\"ult_dia_com\":1618358400000,\"data_ult_preco_com\":1618358400000,\"ult_preco_com\":24.35,\"preco_por_unidade_ou_mil\":1,\"provento_preco\":0.022127,\"nome_empresa\":\"PETROBRAS\",\"cnpj\":\"33.000.167\\/0001-01\"}]\n"
          ],
          "name": "stdout"
        }
      ]
    }
  ]
}